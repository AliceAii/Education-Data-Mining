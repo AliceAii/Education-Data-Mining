{
  "nbformat": 4,
  "nbformat_minor": 0,
  "metadata": {
    "colab": {
      "provenance": [],
      "collapsed_sections": [],
      "include_colab_link": true
    },
    "kernelspec": {
      "name": "python3",
      "display_name": "Python 3"
    },
    "language_info": {
      "name": "python"
    }
  },
  "cells": [
    {
      "cell_type": "markdown",
      "metadata": {
        "id": "view-in-github",
        "colab_type": "text"
      },
      "source": [
        "<a href=\"https://colab.research.google.com/github/AliceAii/Education-Data-Mining/blob/main/EDM_CA2_Feature%20Engineering.ipynb\" target=\"_parent\"><img src=\"https://colab.research.google.com/assets/colab-badge.svg\" alt=\"Open In Colab\"/></a>"
      ]
    },
    {
      "cell_type": "code",
      "execution_count": null,
      "metadata": {
        "id": "f5TnDsfJ4u-o"
      },
      "outputs": [],
      "source": [
        "#Importing Packages\n",
        "import numpy as np\n",
        "import pandas as pd\n",
        "\n",
        "from numpy import loadtxt\n",
        "from sklearn import metrics\n",
        "from sklearn import tree\n",
        "from sklearn.preprocessing import StandardScaler\n",
        "from sklearn.metrics import cohen_kappa_score\n",
        "from sklearn.metrics import confusion_matrix\n",
        "from sklearn.metrics import accuracy_score\n",
        "from sklearn.metrics import precision_score\n",
        "from sklearn.metrics import recall_score\n",
        "from sklearn.metrics import mutual_info_score\n",
        "\n",
        "from sklearn.model_selection import train_test_split\n",
        "from sklearn.model_selection import cross_val_score\n",
        "from sklearn.model_selection import KFold\n",
        "from sklearn.model_selection import GroupKFold\n",
        "\n",
        "from xgboost import XGBClassifier\n",
        "from sklearn.tree import DecisionTreeClassifier\n",
        "from sklearn.naive_bayes import GaussianNB\n",
        "from sklearn.linear_model import LogisticRegression\n",
        "from sklearn.svm import SVC\n",
        "from sklearn.neighbors import KNeighborsClassifier\n",
        "from sklearn.ensemble import RandomForestClassifier\n",
        "\n",
        "\n",
        "from matplotlib import pyplot\n",
        "from matplotlib import pyplot as plt\n",
        "import functools\n",
        "import seaborn as sns; sns.set_theme()\n",
        "import pickle"
      ]
    },
    {
      "cell_type": "markdown",
      "source": [
        "**Input Data Sets**\n",
        "use x1, y1 to represent ca1 data, use x2, y2 to represent ca2 data"
      ],
      "metadata": {
        "id": "-7imElZy8EgZ"
      }
    },
    {
      "cell_type": "code",
      "source": [
        "df1 = pd.read_csv('ca1-dataset.csv')\n",
        "df2 = pd.read_csv('ca2-dataset.csv')"
      ],
      "metadata": {
        "id": "NYBLYQ82-ksG"
      },
      "execution_count": null,
      "outputs": []
    },
    {
      "cell_type": "code",
      "source": [
        "df2['Behaviour'].replace(to_replace=['ON TASK', 'OFF TASK'], value = [0,1])"
      ],
      "metadata": {
        "id": "h0vXQw7NYnVo",
        "colab": {
          "base_uri": "https://localhost:8080/"
        },
        "outputId": "8967eaec-29ea-47b1-842c-d3c55b1495a0"
      },
      "execution_count": null,
      "outputs": [
        {
          "output_type": "execute_result",
          "data": {
            "text/plain": [
              "0       0\n",
              "1       0\n",
              "2       0\n",
              "3       0\n",
              "4       0\n",
              "       ..\n",
              "1728    0\n",
              "1729    0\n",
              "1730    0\n",
              "1731    1\n",
              "1732    0\n",
              "Name: Behaviour, Length: 1733, dtype: int64"
            ]
          },
          "metadata": {},
          "execution_count": 4
        }
      ]
    },
    {
      "cell_type": "code",
      "source": [
        "#df1, y1, x1\n",
        "y1 = df1['OffTask']\n",
        "y1 = y1.replace(to_replace=['N', 'Y'], value = [0,1])\n",
        "\n",
        "x1 = df1.drop(['OffTask', 'namea', 'Unique-id'], axis=1)\n",
        "\n",
        "#df2, y2,x2\n",
        "y2 = df2['Behaviour']\n",
        "y2 = y2.replace(to_replace=['ON TASK', 'OFF TASK'], value = [0,1])\n",
        "\n",
        "x2 = df2.drop(['Behaviour', 'Unique-id', 'Row', 'lesson', 'namea', 'prod', 'cell', 'Coder'], axis=1)\n",
        "print(x2)"
      ],
      "metadata": {
        "id": "2fsSMEL2DKSp",
        "colab": {
          "base_uri": "https://localhost:8080/"
        },
        "outputId": "d9921f28-85d9-4800-9460-a761cf3a704f"
      },
      "execution_count": null,
      "outputs": [
        {
          "output_type": "stream",
          "name": "stdout",
          "text": [
            "      right  bug  help  choice  string  number  point   pknow-1   Pknow-2  \\\n",
            "0         1    0     0       0       0       0      0  0.888287  0.888287   \n",
            "1         1    0     0       0       0       0      0 -1.000000  0.206074   \n",
            "2         1    0     0       0       0       0      0  0.888287  0.888287   \n",
            "3         1    0     0       0       0       0      0  0.999899  0.999899   \n",
            "4         0    0     0       0       0       0      0  0.909316  0.909316   \n",
            "...     ...  ...   ...     ...     ...     ...    ...       ...       ...   \n",
            "1728      1    0     0       0       0       0      0  0.988464  0.988464   \n",
            "1729      1    0     0       0       0       0      0  0.999712  0.999712   \n",
            "1730      1    0     0       0       0       0      0  0.999899  0.999899   \n",
            "1731      1    0     0       0       0       0      0  0.999992  0.999992   \n",
            "1732      0    0     0       0       0       0      0 -1.000000  0.999997   \n",
            "\n",
            "      pchange  ...  helppct-up  wrongpct-up  timeperact-up  Prev3Count-up  \\\n",
            "0           0  ...           0            0      26.000000              0   \n",
            "1           1  ...           0            0       7.000000              1   \n",
            "2           0  ...           0            0      11.500000              0   \n",
            "3           0  ...           0            0       6.000000              0   \n",
            "4           0  ...           0            1      14.500000              0   \n",
            "...       ...  ...         ...          ...            ...            ...   \n",
            "1728        0  ...           0            0       0.000000              0   \n",
            "1729        0  ...           0            0       9.666667              0   \n",
            "1730        0  ...           0            0      19.000000              0   \n",
            "1731        0  ...           0            0      39.181818              0   \n",
            "1732        1  ...           0            2      41.500000              1   \n",
            "\n",
            "      Prev5Count-up  recent8help   recent5wrong  manywrong-up  asymptoteA-up  \\\n",
            "0                 0            0              0             0              0   \n",
            "1                 1            0              2             0              0   \n",
            "2                 0            0              2             0              0   \n",
            "3                 0            0              1             0              0   \n",
            "4                 0            0              1             0              0   \n",
            "...             ...          ...            ...           ...            ...   \n",
            "1728              0            0              0             0              0   \n",
            "1729              0            0              0             0              0   \n",
            "1730              0            0              0             0              0   \n",
            "1731              0            0              0             0              0   \n",
            "1732              1            0              1             0              0   \n",
            "\n",
            "      asymptoteB-up  \n",
            "0                 0  \n",
            "1                 0  \n",
            "2                 0  \n",
            "3                 0  \n",
            "4                 0  \n",
            "...             ...  \n",
            "1728              0  \n",
            "1729              0  \n",
            "1730              0  \n",
            "1731              0  \n",
            "1732              0  \n",
            "\n",
            "[1733 rows x 26 columns]\n"
          ]
        }
      ]
    },
    {
      "cell_type": "markdown",
      "source": [
        "**Model Selection and Feature Importance**\n",
        "*   XGBoost Classifier\n",
        "*   Decision Tree\n",
        "*   Logistic Regression\n",
        "*   Naive Bayes (The GaussianNB does not offer an intrinsic method to evaluate feature importances. So I didn't include a FI here.)"
      ],
      "metadata": {
        "id": "tfOnW7HRC3t5"
      }
    },
    {
      "cell_type": "code",
      "source": [
        "#scale x2\n",
        "scaler = StandardScaler()\n",
        "x2_scaled = scaler.fit_transform(x2)\n",
        "x2_scaled = pd.DataFrame(x2_scaled)"
      ],
      "metadata": {
        "id": "fF45zIS0h-u-"
      },
      "execution_count": null,
      "outputs": []
    },
    {
      "cell_type": "markdown",
      "source": [
        "XGBOOST Feature Importance"
      ],
      "metadata": {
        "id": "flqz1EzTaya5"
      }
    },
    {
      "cell_type": "code",
      "source": [
        "#create XGB Model\n",
        "modelxgb = XGBClassifier(learning_rate=0.5, n_estimators=200, random_state=777)\n",
        "modelxgb.fit(x2, y2)\n",
        "\n",
        "print(modelxgb.feature_importances_)\n",
        "\n",
        "# plot\n",
        "pyplot.bar(range(len(modelxgb.feature_importances_)), modelxgb.feature_importances_)\n",
        "pyplot.show()"
      ],
      "metadata": {
        "id": "fKKYKdUCRYa5",
        "outputId": "224ad470-b126-4b15-cc82-a278ae1e2c0a",
        "colab": {
          "base_uri": "https://localhost:8080/",
          "height": 357
        }
      },
      "execution_count": null,
      "outputs": [
        {
          "output_type": "stream",
          "name": "stdout",
          "text": [
            "[0.06244451 0.         0.         0.         0.         0.\n",
            " 0.         0.07606389 0.03969455 0.         0.05898597 0.06377219\n",
            " 0.08477445 0.08486614 0.         0.05463072 0.         0.04174045\n",
            " 0.0543826  0.1387718  0.14463817 0.         0.09523454 0.\n",
            " 0.         0.        ]\n"
          ]
        },
        {
          "output_type": "display_data",
          "data": {
            "text/plain": [
              "<Figure size 432x288 with 1 Axes>"
            ],
            "image/png": "[encoded data removed]"
          },
          "metadata": {}
        }
      ]
    },
    {
      "cell_type": "markdown",
      "source": [
        "Decision Tree Feature Importance"
      ],
      "metadata": {
        "id": "hWOTAiOybF2R"
      }
    },
    {
      "cell_type": "code",
      "source": [
        "modeldt = DecisionTreeClassifier(min_samples_split=10, criterion=\"entropy\",random_state=777)\n",
        "modeldt.fit(x2, y2)\n",
        "\n",
        "print(modeldt.feature_importances_)\n",
        "\n",
        "# plot\n",
        "pyplot.bar(range(len(modeldt.feature_importances_)), modeldt.feature_importances_)\n",
        "pyplot.show()"
      ],
      "metadata": {
        "id": "y-FQwf7AbPI6",
        "outputId": "6b268b32-0572-4815-8e3e-5c86d8bc8632",
        "colab": {
          "base_uri": "https://localhost:8080/",
          "height": 357
        }
      },
      "execution_count": null,
      "outputs": [
        {
          "output_type": "stream",
          "name": "stdout",
          "text": [
            "[0.01227866 0.         0.         0.         0.         0.\n",
            " 0.         0.01995769 0.06482472 0.         0.07524722 0.11535958\n",
            " 0.13565161 0.36772696 0.         0.01032744 0.         0.\n",
            " 0.17172511 0.         0.         0.         0.02690103 0.\n",
            " 0.         0.        ]\n"
          ]
        },
        {
          "output_type": "display_data",
          "data": {
            "text/plain": [
              "<Figure size 432x288 with 1 Axes>"
            ],
            "image/png": "[encoded data removed]"
          },
          "metadata": {}
        }
      ]
    },
    {
      "cell_type": "markdown",
      "source": [
        "Logistic Regression Feature Importance"
      ],
      "metadata": {
        "id": "0_yQYB9ydyW-"
      }
    },
    {
      "cell_type": "code",
      "source": [
        "\n",
        "modellr = LogisticRegression(solver='liblinear', multi_class='ovr', random_state=777)\n",
        "modellr.fit(x2_scaled,y2)\n",
        "importance = modellr.coef_[0]\n",
        "\n",
        "feat_importanceslr = pd.Series(importance)\n",
        "print(feat_importanceslr)\n",
        "\n",
        "#plot importance \n",
        "feat_importanceslr.nlargest(20).plot(kind='barh',title = 'Feature Importance')"
      ],
      "metadata": {
        "id": "AKa_PzfbfPcJ",
        "colab": {
          "base_uri": "https://localhost:8080/",
          "height": 784
        },
        "outputId": "7f29f284-8d50-4e90-d3f1-5e9eece323a5"
      },
      "execution_count": null,
      "outputs": [
        {
          "output_type": "stream",
          "name": "stdout",
          "text": [
            "0    -0.267944\n",
            "1    -0.192451\n",
            "2     0.000000\n",
            "3     0.000000\n",
            "4     0.000000\n",
            "5     0.000000\n",
            "6     0.000000\n",
            "7     0.608893\n",
            "8     0.169514\n",
            "9     0.557784\n",
            "10    0.011696\n",
            "11   -0.358136\n",
            "12    0.366445\n",
            "13    0.082358\n",
            "14    0.267944\n",
            "15    0.217174\n",
            "16    0.000000\n",
            "17   -0.470118\n",
            "18    0.205191\n",
            "19    0.105637\n",
            "20   -0.753615\n",
            "21    0.000000\n",
            "22    0.307347\n",
            "23   -0.104745\n",
            "24    0.000000\n",
            "25    0.000000\n",
            "dtype: float64\n"
          ]
        },
        {
          "output_type": "execute_result",
          "data": {
            "text/plain": [
              "<matplotlib.axes._subplots.AxesSubplot at 0x7f08e09fdf10>"
            ]
          },
          "metadata": {},
          "execution_count": 9
        },
        {
          "output_type": "display_data",
          "data": {
            "text/plain": [
              "<Figure size 432x288 with 1 Axes>"
            ],
            "image/png": "[encoded data removed]"
          },
          "metadata": {}
        }
      ]
    },
    {
      "cell_type": "markdown",
      "source": [
        "**Create 14 new features**\n",
        "\n",
        "Based on the above feature importance analysis, I selected 14 features in ca_2 dataset: 1.right, 2.pknow-1, 3.pknow-2, 4.pchange, 5. time, 6.timeSDnormed, 7.timelast3SDnormed, 8.timelast5SDnormed, 9. notright, 10.howmanywrong-up, 11.timeperact-up, 12.Prev3Count-up, 13.Prev5Count-up,  14.recent5wrong.\n",
        " \n",
        "The next step is to transform them into new features.\n",
        "\n",
        "when collating data sets, reference to Shihan's code."
      ],
      "metadata": {
        "id": "PMIkYvBiqorM"
      }
    },
    {
      "cell_type": "code",
      "source": [
        "factor1 = pd.DataFrame(df2.groupby('Unique-id')['right'].sum().reset_index())\n",
        "factor1.rename(columns={'right':'sum_right'}, inplace=True)\n",
        "print(factor1)"
      ],
      "metadata": {
        "id": "1KwZMwA9v3gy"
      },
      "execution_count": null,
      "outputs": []
    },
    {
      "cell_type": "code",
      "source": [
        "factor2 = pd.DataFrame(df2.groupby('Unique-id')['pknow-1'].mean().round(3).reset_index())\n",
        "factor2.rename(columns={'pknow-1':'avg_pknow-1'}, inplace=True)\n",
        "print(factor2)"
      ],
      "metadata": {
        "id": "4tvMLpOErS6U"
      },
      "execution_count": null,
      "outputs": []
    },
    {
      "cell_type": "code",
      "source": [
        "factor3 = pd.DataFrame(df2.groupby('Unique-id')['Pknow-2'].mean().round(3).reset_index())\n",
        "factor3.rename(columns={'Pknow-2':'avg_pknow-2'}, inplace=True)\n",
        "print(factor3)"
      ],
      "metadata": {
        "id": "tnlpl5lYsjEY"
      },
      "execution_count": null,
      "outputs": []
    },
    {
      "cell_type": "code",
      "source": [
        "factor4 = pd.DataFrame(df2.groupby('Unique-id')['pchange'].sum().reset_index())\n",
        "factor4.rename(columns={'pchange':'sum_pchange'}, inplace=True)\n",
        "print(factor4)"
      ],
      "metadata": {
        "id": "nkSOCrlEzMgb"
      },
      "execution_count": null,
      "outputs": []
    },
    {
      "cell_type": "code",
      "source": [
        "factor5 = pd.DataFrame(df2.groupby('Unique-id')['time'].sum().reset_index())\n",
        "factor5.rename(columns={'time':'sum_time'}, inplace=True)\n",
        "print(factor5)"
      ],
      "metadata": {
        "id": "S6MrDxVnwOXc"
      },
      "execution_count": null,
      "outputs": []
    },
    {
      "cell_type": "code",
      "source": [
        "factor6 = pd.DataFrame(df2.groupby('Unique-id')['timeSDnormed'].sum().reset_index())\n",
        "factor6.rename(columns={'timeSDnormed':'sum_timeSDnormed'}, inplace=True)\n",
        "print(factor6)"
      ],
      "metadata": {
        "id": "PNbfA5dDs07A"
      },
      "execution_count": null,
      "outputs": []
    },
    {
      "cell_type": "code",
      "source": [
        "factor7 = pd.DataFrame(df2.groupby('Unique-id')['timelast3SDnormed'].sum().reset_index())\n",
        "factor7.rename(columns={'time3SDnormed':'sum_timelast3SDnormed'}, inplace=True)\n",
        "print(factor7)"
      ],
      "metadata": {
        "id": "4_OfN55Hvn_n"
      },
      "execution_count": null,
      "outputs": []
    },
    {
      "cell_type": "code",
      "source": [
        "factor8 = pd.DataFrame(df2.groupby('Unique-id')['timelast5SDnormed'].sum().reset_index())\n",
        "factor8.rename(columns={'timelast5SDnormed':'sum_timelast5SDnormed'}, inplace=True)\n",
        "print(factor8)"
      ],
      "metadata": {
        "id": "NkVLw8ttvxh8"
      },
      "execution_count": null,
      "outputs": []
    },
    {
      "cell_type": "code",
      "source": [
        "factor9 = pd.DataFrame(df2.groupby('Unique-id')['notright'].sum().reset_index())\n",
        "factor9.rename(columns={'notright':'sum_notright'}, inplace=True)\n",
        "print(factor9)"
      ],
      "metadata": {
        "id": "saswf1qlya05"
      },
      "execution_count": null,
      "outputs": []
    },
    {
      "cell_type": "code",
      "source": [
        "factor10 = pd.DataFrame(df2.groupby('Unique-id')['howmanywrong-up'].max().reset_index())\n",
        "factor10.rename(columns={'howmanywrong-up':'max_howmanywrong-up'}, inplace=True)\n",
        "print(factor10)"
      ],
      "metadata": {
        "id": "RHwPurGzwqz6"
      },
      "execution_count": null,
      "outputs": []
    },
    {
      "cell_type": "code",
      "source": [
        "factor11 = pd.DataFrame(df2.groupby('Unique-id')['timeperact-up'].max().reset_index())\n",
        "factor11.rename(columns={'timeperact-up':'max_timeperact-up'}, inplace=True)\n",
        "print(factor11)"
      ],
      "metadata": {
        "id": "MPdj-duNx0Qk"
      },
      "execution_count": null,
      "outputs": []
    },
    {
      "cell_type": "code",
      "source": [
        "factor12 = pd.DataFrame(df2.groupby('Unique-id')['Prev3Count-up'].max().reset_index())\n",
        "factor12.rename(columns={'Prev3Count-up':'max_Prev3Count-up'}, inplace=True)\n",
        "print(factor12)"
      ],
      "metadata": {
        "id": "BMR-zqvF082_"
      },
      "execution_count": null,
      "outputs": []
    },
    {
      "cell_type": "code",
      "source": [
        "factor13 = pd.DataFrame(df2.groupby('Unique-id')['Prev5Count-up'].max().reset_index())\n",
        "factor13.rename(columns={'Prev5Count-up':'max_Prev5Count-up'}, inplace=True)\n",
        "print(factor13)"
      ],
      "metadata": {
        "id": "bjGQbWnb088n"
      },
      "execution_count": null,
      "outputs": []
    },
    {
      "cell_type": "code",
      "source": [
        "factor14 = pd.DataFrame(df2.groupby('Unique-id')[' recent5wrong'].max().reset_index())\n",
        "factor14.rename(columns={' recent5wrong':'max_recent5wrong'}, inplace=True)\n",
        "print(factor14)"
      ],
      "metadata": {
        "id": "lkoKWRk_1hkA"
      },
      "execution_count": null,
      "outputs": []
    },
    {
      "cell_type": "markdown",
      "source": [
        "**Merge Features into ca1 dataset**"
      ],
      "metadata": {
        "id": "kLCI7kDJ2l5u"
      }
    },
    {
      "cell_type": "code",
      "source": [
        "import functools\n",
        "features = [factor1, factor2, factor3, factor4, factor5, factor6, factor7, factor8, factor9, factor10, factor11, factor12, factor13, factor14]\n",
        "print(features)"
      ],
      "metadata": {
        "id": "I7lgO5Jm2rmh"
      },
      "execution_count": null,
      "outputs": []
    },
    {
      "cell_type": "code",
      "source": [
        "#reference to shihan's code\n",
        "new_features = functools.reduce(lambda left, right: pd.merge(left, right, on='Unique-id'), features)\n",
        "print(new_features)"
      ],
      "metadata": {
        "id": "QHVD9w-i3KND"
      },
      "execution_count": null,
      "outputs": []
    },
    {
      "cell_type": "code",
      "source": [
        "DF1 = df1.drop([ 'Avgbug', 'Avghelp', 'Avgchoice', 'Avgstring', 'Avgnumber', 'Avgpoint', 'Avgnotright', 'Avghelppct-up', 'Avgrecent8help', 'Avgmanywrong-up', 'AvgasymptoteA-up', 'AvgasymptoteB-up'], axis=1)\n",
        "\n",
        "ca2 = DF1.merge(new_features, on='Unique-id')\n",
        "print(ca2)\n",
        "\n"
      ],
      "metadata": {
        "id": "m61qKo164TvI"
      },
      "execution_count": null,
      "outputs": []
    },
    {
      "cell_type": "code",
      "source": [
        "corrmatrix = ca2.corr()\n",
        "corrmatrix\n",
        "\n",
        "fig, ax = plt.subplots(figsize=(20, 20))\n",
        "ax = sns.heatmap(corrmatrix, annot=True)"
      ],
      "metadata": {
        "id": "m7et89CZ7946"
      },
      "execution_count": null,
      "outputs": []
    },
    {
      "cell_type": "markdown",
      "source": [
        "Manually remove variables that are covariates, remove 'AvgPre3Count-up', 'Avgtime', 'Avgtimelast5Dnormed', 'Avghowmanywrong-up', 'AvgPre3Count-up'."
      ],
      "metadata": {
        "id": "mtYIljTB7878"
      }
    },
    {
      "cell_type": "code",
      "source": [
        "x = ca2.drop(['Unique-id', 'namea', 'OffTask','AvgPrev3Count-up', 'Avgtime', 'Avgtimelast5SDnormed', 'Avghowmanywrong-up', 'AvgPrev3Count-up'], axis=1)\n",
        "print(x)\n",
        "\n",
        "x1xgb = x.drop(['avg_pknow-2', 'sum_pchange', 'sum_notright'], axis=1)\n",
        "x2dt = x.drop(['sum_pchange', 'sum_notright', 'max_Prev3Count-up', 'max_Prev5Count-up'], axis=1)\n",
        "x3lg = x.drop(['sum_right', 'sum_time', 'max_Prev5Count-up'], axis=1)\n",
        "\n",
        "y = ca2['OffTask']\n",
        "y = y.replace(to_replace=['N', 'Y'], value = [0,1])\n",
        "\n",
        "print(y)"
      ],
      "metadata": {
        "id": "kL8MvOY8BBs5"
      },
      "execution_count": null,
      "outputs": []
    },
    {
      "cell_type": "markdown",
      "source": [
        "**Set student-level cross validation**"
      ],
      "metadata": {
        "id": "rgO7e7nvB3eQ"
      }
    },
    {
      "cell_type": "code",
      "source": [
        "cv = KFold(n_splits=10)\n",
        "\n",
        "gkf = GroupKFold(n_splits=10)\n",
        "\n",
        "group_dict = {}\n",
        "groups = np.array([])"
      ],
      "metadata": {
        "id": "dMcMXWxeBcNG"
      },
      "execution_count": null,
      "outputs": []
    },
    {
      "cell_type": "code",
      "source": [
        "for index, row in ca2.iterrows():\n",
        "    student_id = row['Unique-id']\n",
        "    if student_id not in group_dict:\n",
        "        group_dict[student_id] = index\n",
        "    groups = np.append(groups, group_dict[student_id])"
      ],
      "metadata": {
        "id": "L2lr8QoACIhG"
      },
      "execution_count": null,
      "outputs": []
    },
    {
      "cell_type": "markdown",
      "source": [
        "**Data Mining Model, A' and Kappa value**\n",
        "*   XGBoot Classifier\n",
        "*   Decision Tree\n",
        "*   Naive Bayes \n",
        "*   Logistic Regression"
      ],
      "metadata": {
        "id": "ekpeoCy-CsH4"
      }
    },
    {
      "cell_type": "markdown",
      "source": [
        "XGBoot Classifier: kappa=0.223, A'=0.817, accuracy= 95.65%"
      ],
      "metadata": {
        "id": "zZP8x17EFSp7"
      }
    },
    {
      "cell_type": "code",
      "source": [
        "kappa_values = list()\n",
        "\n",
        "for train_index, test_index in gkf.split(x1xgb, y, groups=groups):\n",
        "    x1_train = x1xgb.iloc[train_index]\n",
        "    x1_test = x1xgb.iloc[test_index]\n",
        "    y_train = y[train_index]\n",
        "    y_test = y[test_index]\n",
        "    xgb = XGBClassifier(learning_rate=0.5, n_estimators=200, random_state=5)\n",
        "    xgb.fit(x1_train, y_train)\n",
        "    predictions = xgb.predict(x1_test)\n",
        "    kappa = cohen_kappa_score(y_test, predictions)\n",
        "    kappa_values.append(kappa)\n",
        "np.mean(kappa_values)"
      ],
      "metadata": {
        "id": "ezsALzphtICq"
      },
      "execution_count": null,
      "outputs": []
    },
    {
      "cell_type": "code",
      "source": [
        "#xgb\n",
        "\n",
        "kappa_values = list()\n",
        "\n",
        "for train_index, test_index in gkf.split(x1xgb, y, groups=groups):\n",
        "    x_train = x1xgb.iloc[train_index]\n",
        "    x_test = x1xgb.iloc[test_index]\n",
        "    y_train = y[train_index]\n",
        "    y_test = y[test_index]\n",
        "    xgb = XGBClassifier(learning_rate=0.5, n_estimators=200, random_state=5)\n",
        "    xgb.fit(x_train, y_train)\n",
        "    predictions = xgb.predict(x_test)\n",
        "    kappa = cohen_kappa_score(y_test, predictions)\n",
        "    kappa_values.append(kappa)\n",
        "print('Mean:',np.mean(kappa_values)) "
      ],
      "metadata": {
        "id": "F4cE6qhYC19D"
      },
      "execution_count": null,
      "outputs": []
    },
    {
      "cell_type": "code",
      "source": [
        "AUC = cross_val_score(xgb, x1xgb, y, scoring='roc_auc', cv=gkf.split(x, y, groups=groups))\n",
        "print(AUC.mean())"
      ],
      "metadata": {
        "id": "p1QBj2GcFPUY"
      },
      "execution_count": null,
      "outputs": []
    },
    {
      "cell_type": "code",
      "source": [
        "xgb = XGBClassifier()\n",
        "kfold = KFold(n_splits=10, random_state=7,shuffle = True)\n",
        "results = cross_val_score(xgb, x1xgb, y, cv=kfold)\n",
        "print(\"Accuracy: %.2f%% (%.2f%%)\" % (results.mean()*100, results.std()*100))"
      ],
      "metadata": {
        "colab": {
          "base_uri": "https://localhost:8080/"
        },
        "id": "Z7ZVwJJ4Gp8r",
        "outputId": "65e582de-fb0f-4f38-a1ed-38064ebc1dec"
      },
      "execution_count": null,
      "outputs": [
        {
          "output_type": "stream",
          "name": "stdout",
          "text": [
            "Accuracy: 95.65% (2.50%)\n"
          ]
        }
      ]
    },
    {
      "cell_type": "markdown",
      "source": [
        "Decision Tree: kappa =0.246, A'=0.652, accuracy=93.91%"
      ],
      "metadata": {
        "id": "lzQ2JB3pFrla"
      }
    },
    {
      "cell_type": "code",
      "source": [
        "# decision tree\n",
        "\n",
        "kappa_values = list()\n",
        "\n",
        "for train_index, test_index in gkf.split(x2dt, y, groups=groups):\n",
        "    x_train = x2dt.iloc[train_index]\n",
        "    x_test = x2dt.iloc[test_index]\n",
        "    y_train = y[train_index]\n",
        "    y_test = y[test_index]\n",
        "    clf = tree.DecisionTreeClassifier(min_samples_split=10)\n",
        "    clf.fit(x_train, y_train)\n",
        "    predictions = clf.predict(x_test)\n",
        "    kappa = cohen_kappa_score(y_test, predictions)\n",
        "    kappa_values.append(kappa)\n",
        "kappa_values\n",
        "print('Mean:',np.mean(kappa_values)) "
      ],
      "metadata": {
        "colab": {
          "base_uri": "https://localhost:8080/"
        },
        "id": "QmD4pa-wFqVb",
        "outputId": "d0f88c19-e2bb-4bff-c933-c5c74f89d6b3"
      },
      "execution_count": null,
      "outputs": [
        {
          "output_type": "stream",
          "name": "stdout",
          "text": [
            "Mean: 0.24557740272039244\n"
          ]
        }
      ]
    },
    {
      "cell_type": "code",
      "source": [
        "AUC = cross_val_score(clf, x2dt, y, scoring='roc_auc', cv=gkf.split(x, y, groups=groups))\n",
        "print(AUC.mean())"
      ],
      "metadata": {
        "colab": {
          "base_uri": "https://localhost:8080/"
        },
        "id": "xxZJJflnGOxr",
        "outputId": "aa272d23-0491-4648-a41d-e0560d03a7e9"
      },
      "execution_count": null,
      "outputs": [
        {
          "output_type": "stream",
          "name": "stdout",
          "text": [
            "0.6516431196432427\n"
          ]
        }
      ]
    },
    {
      "cell_type": "code",
      "source": [
        "cv = KFold(n_splits=10)\n",
        "\n",
        "clf = tree.DecisionTreeClassifier(min_samples_split=10)\n",
        "fold_accuracy = []\n",
        "for train_index, valid_index in cv.split(x):\n",
        "    train_x,test_x = x.iloc[train_index],x.iloc[valid_index]\n",
        "    train_y,test_y= y.iloc[train_index], y.iloc[valid_index]\n",
        "\n",
        "    model = clf.fit(train_x,train_y)\n",
        "    valid_acc = model.score(test_x,test_y)\n",
        "    fold_accuracy.append(valid_acc)\n",
        "    print(confusion_matrix(test_y,model.predict(test_x)))\n",
        "\n",
        "print(\"Accuracy per fold: \", fold_accuracy, \"\\n\")\n",
        "print(\"Average accuracy: \", sum(fold_accuracy)/len(fold_accuracy))\n"
      ],
      "metadata": {
        "id": "MQQFGqTZGnv4"
      },
      "execution_count": null,
      "outputs": []
    },
    {
      "cell_type": "markdown",
      "source": [
        "Naive Bayes: kappa=0.131, A'=0.617, accuracy = 90.35%"
      ],
      "metadata": {
        "id": "ySGnV_jQGfxJ"
      }
    },
    {
      "cell_type": "code",
      "source": [
        "kappa_values = list()\n",
        "\n",
        "for train_index, test_index in gkf.split(x, y, groups=groups):\n",
        "    x_train = x.iloc[train_index]\n",
        "    x_test = x.iloc[test_index]\n",
        "    y_train = y[train_index]\n",
        "    y_test = y[test_index]\n",
        "    gnb = GaussianNB()\n",
        "    gnb.fit(x_train, y_train.ravel())\n",
        "    predictions = gnb.predict(x_test)\n",
        "    kappa = cohen_kappa_score(y_test, predictions)\n",
        "    kappa_values.append(kappa)\n",
        "kappa_values\n",
        "print('Mean:',np.mean(kappa_values)) "
      ],
      "metadata": {
        "id": "cqqlam_nGf88"
      },
      "execution_count": null,
      "outputs": []
    },
    {
      "cell_type": "code",
      "source": [
        "AUC = cross_val_score(gnb, x, y, scoring='roc_auc', cv=gkf.split(x, y, groups=groups))\n",
        "print(AUC.mean())"
      ],
      "metadata": {
        "id": "IbklK25iHs0t"
      },
      "execution_count": null,
      "outputs": []
    },
    {
      "cell_type": "code",
      "source": [
        "cv = KFold(n_splits=10)\n",
        "\n",
        "gnb = GaussianNB()\n",
        "fold_accuracy = []\n",
        "for train_index, valid_index in cv.split(x):\n",
        "    train_x,test_x = x.iloc[train_index],x.iloc[valid_index]\n",
        "    train_y,test_y= y.iloc[train_index], y.iloc[valid_index]\n",
        "\n",
        "    model = gnb.fit(train_x,train_y)\n",
        "    valid_acc = model.score(test_x,test_y)\n",
        "    fold_accuracy.append(valid_acc)\n",
        "    print(confusion_matrix(test_y,model.predict(test_x)))\n",
        "\n",
        "print(\"Accuracy per fold: \", fold_accuracy, \"\\n\")\n",
        "print(\"Average accuracy: \", sum(fold_accuracy)/len(fold_accuracy))"
      ],
      "metadata": {
        "id": "dse0VRM0Hv_V"
      },
      "execution_count": null,
      "outputs": []
    },
    {
      "cell_type": "markdown",
      "source": [
        "Logistic Regression: kappa = 0.112, A'= 0.76, accuracy = 94.90%"
      ],
      "metadata": {
        "id": "_PjuzF0BIS2T"
      }
    },
    {
      "cell_type": "code",
      "source": [
        "x_train, x_test, y_train, y_test = train_test_split(x3lg, y, random_state=0)\n",
        "logreg = LogisticRegression(solver='lbfgs', max_iter=1000)\n",
        "logreg.fit(x_train, y_train)\n",
        "\n",
        "y_predict = logreg.predict(x_train)\n",
        "\n",
        "y_predict1 = logreg.predict(x_test)\n",
        "\n",
        "scores = cross_val_score(logreg, x_train, y_train, cv = 10) \n",
        "\n",
        "np.mean(scores)"
      ],
      "metadata": {
        "id": "AJhxfzQVISlZ"
      },
      "execution_count": null,
      "outputs": []
    },
    {
      "cell_type": "code",
      "source": [
        "kappa_values = list()\n",
        "\n",
        "for train_index, test_index in gkf.split(x3lg, y, groups=groups):\n",
        "    x_train = x3lg.iloc[train_index]\n",
        "    x_test = x3lg.iloc[test_index]\n",
        "    y_train = y[train_index]\n",
        "    y_test = y[test_index]\n",
        "    logreg = LogisticRegression(solver='lbfgs', max_iter=1000)\n",
        "    logreg.fit(x_train, y_train)\n",
        "    predictions = logreg.predict(x_test)\n",
        "    kappa = cohen_kappa_score(y_test, predictions)\n",
        "    kappa_values.append(kappa)\n",
        "kappa_values\n",
        "print('Mean:',np.mean(kappa_values)) "
      ],
      "metadata": {
        "id": "oEjgvbuUIpmm"
      },
      "execution_count": null,
      "outputs": []
    },
    {
      "cell_type": "code",
      "source": [
        "AUC = cross_val_score(logreg, x3lg, y, scoring='roc_auc', cv=gkf.split(x, y, groups=groups))\n",
        "print(\"AUC: %.2f\" % (AUC.mean()))"
      ],
      "metadata": {
        "id": "5MubowMOI9Cv"
      },
      "execution_count": null,
      "outputs": []
    }
  ]
}