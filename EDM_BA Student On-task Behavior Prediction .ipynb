{
  "nbformat": 4,
  "nbformat_minor": 0,
  "metadata": {
    "colab": {
      "provenance": [],
      "collapsed_sections": [],
      "include_colab_link": true
    },
    "kernelspec": {
      "name": "python3",
      "display_name": "Python 3"
    },
    "language_info": {
      "name": "python"
    }
  },
  "cells": [
    {
      "cell_type": "markdown",
      "metadata": {
        "id": "view-in-github",
        "colab_type": "text"
      },
      "source": [
        "<a href=\"https://colab.research.google.com/github/AliceAii/Education-Data-Mining/blob/main/EDM_BA%20Student%20On-task%20Behavior%20Prediction%20.ipynb\" target=\"_parent\"><img src=\"https://colab.research.google.com/assets/colab-badge.svg\" alt=\"Open In Colab\"/></a>"
      ]
    },
    {
      "cell_type": "markdown",
      "source": [
        "**Q1 build a decision tree on the entire data set. What is kappa?**"
      ],
      "metadata": {
        "id": "V3Bbew-W3mtB"
      }
    },
    {
      "cell_type": "code",
      "execution_count": null,
      "metadata": {
        "id": "bEEve6VT-j-p"
      },
      "outputs": [],
      "source": [
        "import numpy as np\n",
        "import pandas as pd"
      ]
    },
    {
      "cell_type": "code",
      "source": [
        "df = pd.read_csv('ba1-in.csv')"
      ],
      "metadata": {
        "id": "YRb1_Ut1_shx"
      },
      "execution_count": null,
      "outputs": []
    },
    {
      "cell_type": "code",
      "source": [
        "from sklearn import tree\n",
        "from sklearn.metrics import cohen_kappa_score"
      ],
      "metadata": {
        "id": "Ykm3z9toAWEa"
      },
      "execution_count": null,
      "outputs": []
    },
    {
      "cell_type": "code",
      "source": [
        "data1 = pd.get_dummies(df, columns=['SCHOOL', 'Class', 'CODER', 'Activity'])"
      ],
      "metadata": {
        "id": "8X-f9l3nIIcx"
      },
      "execution_count": null,
      "outputs": []
    },
    {
      "cell_type": "code",
      "source": [
        "data1"
      ],
      "metadata": {
        "id": "OcUcl-5RVt3q",
        "colab": {
          "base_uri": "https://localhost:8080/",
          "height": 505
        },
        "outputId": "4bf82460-b276-43ee-aebf-670fe166fecb"
      },
      "execution_count": null,
      "outputs": [
        {
          "output_type": "execute_result",
          "data": {
            "text/plain": [
              "       UNIQUEID  GRADE  STUDENTID  Gender  OBSNUM  totalobs-forsession ONTASK  \\\n",
              "0         14400      0     600865       0       1                    0      Y   \n",
              "1         14401      0     596466       0       1                    1      Y   \n",
              "2         14402      0     616590       0       1                    2      Y   \n",
              "3         14403      0     734358       1       1                    3      Y   \n",
              "4         14404      0     826308       1       1                    4      Y   \n",
              "...         ...    ...        ...     ...     ...                  ...    ...   \n",
              "27726     42126      4     979370       0      17                  343      Y   \n",
              "27727     42127      4     796316       1      16                  344      Y   \n",
              "27728     42128      4     890896       1      16                  345      Y   \n",
              "27729     42129      4     506875       0      17                  346      Y   \n",
              "27730     42130      4     477663       0      17                  347      N   \n",
              "\n",
              "       TRANSITIONS  NumACTIVITIES  FORMATchanges  ...  Class_T9U  Class_T9V  \\\n",
              "0                3              4              1  ...          0          0   \n",
              "1                3              4              1  ...          0          0   \n",
              "2                3              4              1  ...          0          0   \n",
              "3                3              4              1  ...          0          0   \n",
              "4                3              4              1  ...          0          0   \n",
              "...            ...            ...            ...  ...        ...        ...   \n",
              "27726            4              5              1  ...          0          0   \n",
              "27727            4              5              1  ...          0          0   \n",
              "27728            4              5              1  ...          0          0   \n",
              "27729            4              5              1  ...          0          0   \n",
              "27730            4              5              1  ...          0          0   \n",
              "\n",
              "       CODER_Y  CODER_Z  Activity_Dancing  Activity_Individual  \\\n",
              "0            0        1                 0                    0   \n",
              "1            0        1                 0                    0   \n",
              "2            0        1                 0                    0   \n",
              "3            0        1                 0                    0   \n",
              "4            0        1                 0                    0   \n",
              "...        ...      ...               ...                  ...   \n",
              "27726        0        1                 0                    0   \n",
              "27727        0        1                 0                    0   \n",
              "27728        0        1                 0                    0   \n",
              "27729        0        1                 0                    0   \n",
              "27730        0        1                 0                    0   \n",
              "\n",
              "       Activity_Smallgroup  Activity_Testing  Activity_Wholecarpet  \\\n",
              "0                        0                 0                     1   \n",
              "1                        0                 0                     1   \n",
              "2                        0                 0                     1   \n",
              "3                        0                 0                     1   \n",
              "4                        0                 0                     1   \n",
              "...                    ...               ...                   ...   \n",
              "27726                    0                 0                     0   \n",
              "27727                    0                 0                     0   \n",
              "27728                    0                 0                     0   \n",
              "27729                    0                 0                     0   \n",
              "27730                    0                 0                     0   \n",
              "\n",
              "       Activity_Wholedesks  \n",
              "0                        0  \n",
              "1                        0  \n",
              "2                        0  \n",
              "3                        0  \n",
              "4                        0  \n",
              "...                    ...  \n",
              "27726                    1  \n",
              "27727                    1  \n",
              "27728                    1  \n",
              "27729                    1  \n",
              "27730                    1  \n",
              "\n",
              "[27731 rows x 49 columns]"
            ],
            "text/html": [
              "\n",
              "  <div id=\"df-0ba3ceac-eba9-4f81-8657-06d04b8481b1\">\n",
              "    <div class=\"colab-df-container\">\n",
              "      <div>\n",
              "<style scoped>\n",
              "    .dataframe tbody tr th:only-of-type {\n",
              "        vertical-align: middle;\n",
              "    }\n",
              "\n",
              "    .dataframe tbody tr th {\n",
              "        vertical-align: top;\n",
              "    }\n",
              "\n",
              "    .dataframe thead th {\n",
              "        text-align: right;\n",
              "    }\n",
              "</style>\n",
              "<table border=\"1\" class=\"dataframe\">\n",
              "  <thead>\n",
              "    <tr style=\"text-align: right;\">\n",
              "      <th></th>\n",
              "      <th>UNIQUEID</th>\n",
              "      <th>GRADE</th>\n",
              "      <th>STUDENTID</th>\n",
              "      <th>Gender</th>\n",
              "      <th>OBSNUM</th>\n",
              "      <th>totalobs-forsession</th>\n",
              "      <th>ONTASK</th>\n",
              "      <th>TRANSITIONS</th>\n",
              "      <th>NumACTIVITIES</th>\n",
              "      <th>FORMATchanges</th>\n",
              "      <th>...</th>\n",
              "      <th>Class_T9U</th>\n",
              "      <th>Class_T9V</th>\n",
              "      <th>CODER_Y</th>\n",
              "      <th>CODER_Z</th>\n",
              "      <th>Activity_Dancing</th>\n",
              "      <th>Activity_Individual</th>\n",
              "      <th>Activity_Smallgroup</th>\n",
              "      <th>Activity_Testing</th>\n",
              "      <th>Activity_Wholecarpet</th>\n",
              "      <th>Activity_Wholedesks</th>\n",
              "    </tr>\n",
              "  </thead>\n",
              "  <tbody>\n",
              "    <tr>\n",
              "      <th>0</th>\n",
              "      <td>14400</td>\n",
              "      <td>0</td>\n",
              "      <td>600865</td>\n",
              "      <td>0</td>\n",
              "      <td>1</td>\n",
              "      <td>0</td>\n",
              "      <td>Y</td>\n",
              "      <td>3</td>\n",
              "      <td>4</td>\n",
              "      <td>1</td>\n",
              "      <td>...</td>\n",
              "      <td>0</td>\n",
              "      <td>0</td>\n",
              "      <td>0</td>\n",
              "      <td>1</td>\n",
              "      <td>0</td>\n",
              "      <td>0</td>\n",
              "      <td>0</td>\n",
              "      <td>0</td>\n",
              "      <td>1</td>\n",
              "      <td>0</td>\n",
              "    </tr>\n",
              "    <tr>\n",
              "      <th>1</th>\n",
              "      <td>14401</td>\n",
              "      <td>0</td>\n",
              "      <td>596466</td>\n",
              "      <td>0</td>\n",
              "      <td>1</td>\n",
              "      <td>1</td>\n",
              "      <td>Y</td>\n",
              "      <td>3</td>\n",
              "      <td>4</td>\n",
              "      <td>1</td>\n",
              "      <td>...</td>\n",
              "      <td>0</td>\n",
              "      <td>0</td>\n",
              "      <td>0</td>\n",
              "      <td>1</td>\n",
              "      <td>0</td>\n",
              "      <td>0</td>\n",
              "      <td>0</td>\n",
              "      <td>0</td>\n",
              "      <td>1</td>\n",
              "      <td>0</td>\n",
              "    </tr>\n",
              "    <tr>\n",
              "      <th>2</th>\n",
              "      <td>14402</td>\n",
              "      <td>0</td>\n",
              "      <td>616590</td>\n",
              "      <td>0</td>\n",
              "      <td>1</td>\n",
              "      <td>2</td>\n",
              "      <td>Y</td>\n",
              "      <td>3</td>\n",
              "      <td>4</td>\n",
              "      <td>1</td>\n",
              "      <td>...</td>\n",
              "      <td>0</td>\n",
              "      <td>0</td>\n",
              "      <td>0</td>\n",
              "      <td>1</td>\n",
              "      <td>0</td>\n",
              "      <td>0</td>\n",
              "      <td>0</td>\n",
              "      <td>0</td>\n",
              "      <td>1</td>\n",
              "      <td>0</td>\n",
              "    </tr>\n",
              "    <tr>\n",
              "      <th>3</th>\n",
              "      <td>14403</td>\n",
              "      <td>0</td>\n",
              "      <td>734358</td>\n",
              "      <td>1</td>\n",
              "      <td>1</td>\n",
              "      <td>3</td>\n",
              "      <td>Y</td>\n",
              "      <td>3</td>\n",
              "      <td>4</td>\n",
              "      <td>1</td>\n",
              "      <td>...</td>\n",
              "      <td>0</td>\n",
              "      <td>0</td>\n",
              "      <td>0</td>\n",
              "      <td>1</td>\n",
              "      <td>0</td>\n",
              "      <td>0</td>\n",
              "      <td>0</td>\n",
              "      <td>0</td>\n",
              "      <td>1</td>\n",
              "      <td>0</td>\n",
              "    </tr>\n",
              "    <tr>\n",
              "      <th>4</th>\n",
              "      <td>14404</td>\n",
              "      <td>0</td>\n",
              "      <td>826308</td>\n",
              "      <td>1</td>\n",
              "      <td>1</td>\n",
              "      <td>4</td>\n",
              "      <td>Y</td>\n",
              "      <td>3</td>\n",
              "      <td>4</td>\n",
              "      <td>1</td>\n",
              "      <td>...</td>\n",
              "      <td>0</td>\n",
              "      <td>0</td>\n",
              "      <td>0</td>\n",
              "      <td>1</td>\n",
              "      <td>0</td>\n",
              "      <td>0</td>\n",
              "      <td>0</td>\n",
              "      <td>0</td>\n",
              "      <td>1</td>\n",
              "      <td>0</td>\n",
              "    </tr>\n",
              "    <tr>\n",
              "      <th>...</th>\n",
              "      <td>...</td>\n",
              "      <td>...</td>\n",
              "      <td>...</td>\n",
              "      <td>...</td>\n",
              "      <td>...</td>\n",
              "      <td>...</td>\n",
              "      <td>...</td>\n",
              "      <td>...</td>\n",
              "      <td>...</td>\n",
              "      <td>...</td>\n",
              "      <td>...</td>\n",
              "      <td>...</td>\n",
              "      <td>...</td>\n",
              "      <td>...</td>\n",
              "      <td>...</td>\n",
              "      <td>...</td>\n",
              "      <td>...</td>\n",
              "      <td>...</td>\n",
              "      <td>...</td>\n",
              "      <td>...</td>\n",
              "      <td>...</td>\n",
              "    </tr>\n",
              "    <tr>\n",
              "      <th>27726</th>\n",
              "      <td>42126</td>\n",
              "      <td>4</td>\n",
              "      <td>979370</td>\n",
              "      <td>0</td>\n",
              "      <td>17</td>\n",
              "      <td>343</td>\n",
              "      <td>Y</td>\n",
              "      <td>4</td>\n",
              "      <td>5</td>\n",
              "      <td>1</td>\n",
              "      <td>...</td>\n",
              "      <td>0</td>\n",
              "      <td>0</td>\n",
              "      <td>0</td>\n",
              "      <td>1</td>\n",
              "      <td>0</td>\n",
              "      <td>0</td>\n",
              "      <td>0</td>\n",
              "      <td>0</td>\n",
              "      <td>0</td>\n",
              "      <td>1</td>\n",
              "    </tr>\n",
              "    <tr>\n",
              "      <th>27727</th>\n",
              "      <td>42127</td>\n",
              "      <td>4</td>\n",
              "      <td>796316</td>\n",
              "      <td>1</td>\n",
              "      <td>16</td>\n",
              "      <td>344</td>\n",
              "      <td>Y</td>\n",
              "      <td>4</td>\n",
              "      <td>5</td>\n",
              "      <td>1</td>\n",
              "      <td>...</td>\n",
              "      <td>0</td>\n",
              "      <td>0</td>\n",
              "      <td>0</td>\n",
              "      <td>1</td>\n",
              "      <td>0</td>\n",
              "      <td>0</td>\n",
              "      <td>0</td>\n",
              "      <td>0</td>\n",
              "      <td>0</td>\n",
              "      <td>1</td>\n",
              "    </tr>\n",
              "    <tr>\n",
              "      <th>27728</th>\n",
              "      <td>42128</td>\n",
              "      <td>4</td>\n",
              "      <td>890896</td>\n",
              "      <td>1</td>\n",
              "      <td>16</td>\n",
              "      <td>345</td>\n",
              "      <td>Y</td>\n",
              "      <td>4</td>\n",
              "      <td>5</td>\n",
              "      <td>1</td>\n",
              "      <td>...</td>\n",
              "      <td>0</td>\n",
              "      <td>0</td>\n",
              "      <td>0</td>\n",
              "      <td>1</td>\n",
              "      <td>0</td>\n",
              "      <td>0</td>\n",
              "      <td>0</td>\n",
              "      <td>0</td>\n",
              "      <td>0</td>\n",
              "      <td>1</td>\n",
              "    </tr>\n",
              "    <tr>\n",
              "      <th>27729</th>\n",
              "      <td>42129</td>\n",
              "      <td>4</td>\n",
              "      <td>506875</td>\n",
              "      <td>0</td>\n",
              "      <td>17</td>\n",
              "      <td>346</td>\n",
              "      <td>Y</td>\n",
              "      <td>4</td>\n",
              "      <td>5</td>\n",
              "      <td>1</td>\n",
              "      <td>...</td>\n",
              "      <td>0</td>\n",
              "      <td>0</td>\n",
              "      <td>0</td>\n",
              "      <td>1</td>\n",
              "      <td>0</td>\n",
              "      <td>0</td>\n",
              "      <td>0</td>\n",
              "      <td>0</td>\n",
              "      <td>0</td>\n",
              "      <td>1</td>\n",
              "    </tr>\n",
              "    <tr>\n",
              "      <th>27730</th>\n",
              "      <td>42130</td>\n",
              "      <td>4</td>\n",
              "      <td>477663</td>\n",
              "      <td>0</td>\n",
              "      <td>17</td>\n",
              "      <td>347</td>\n",
              "      <td>N</td>\n",
              "      <td>4</td>\n",
              "      <td>5</td>\n",
              "      <td>1</td>\n",
              "      <td>...</td>\n",
              "      <td>0</td>\n",
              "      <td>0</td>\n",
              "      <td>0</td>\n",
              "      <td>1</td>\n",
              "      <td>0</td>\n",
              "      <td>0</td>\n",
              "      <td>0</td>\n",
              "      <td>0</td>\n",
              "      <td>0</td>\n",
              "      <td>1</td>\n",
              "    </tr>\n",
              "  </tbody>\n",
              "</table>\n",
              "<p>27731 rows × 49 columns</p>\n",
              "</div>\n",
              "      <button class=\"colab-df-convert\" onclick=\"convertToInteractive('df-0ba3ceac-eba9-4f81-8657-06d04b8481b1')\"\n",
              "              title=\"Convert this dataframe to an interactive table.\"\n",
              "              style=\"display:none;\">\n",
              "        \n",
              "  <svg xmlns=\"http://www.w3.org/2000/svg\" height=\"24px\"viewBox=\"0 0 24 24\"\n",
              "       width=\"24px\">\n",
              "    <path d=\"M0 0h24v24H0V0z\" fill=\"none\"/>\n",
              "    <path d=\"M18.56 5.44l.94 2.06.94-2.06 2.06-.94-2.06-.94-.94-2.06-.94 2.06-2.06.94zm-11 1L8.5 8.5l.94-2.06 2.06-.94-2.06-.94L8.5 2.5l-.94 2.06-2.06.94zm10 10l.94 2.06.94-2.06 2.06-.94-2.06-.94-.94-2.06-.94 2.06-2.06.94z\"/><path d=\"M17.41 7.96l-1.37-1.37c-.4-.4-.92-.59-1.43-.59-.52 0-1.04.2-1.43.59L10.3 9.45l-7.72 7.72c-.78.78-.78 2.05 0 2.83L4 21.41c.39.39.9.59 1.41.59.51 0 1.02-.2 1.41-.59l7.78-7.78 2.81-2.81c.8-.78.8-2.07 0-2.86zM5.41 20L4 18.59l7.72-7.72 1.47 1.35L5.41 20z\"/>\n",
              "  </svg>\n",
              "      </button>\n",
              "      \n",
              "  <style>\n",
              "    .colab-df-container {\n",
              "      display:flex;\n",
              "      flex-wrap:wrap;\n",
              "      gap: 12px;\n",
              "    }\n",
              "\n",
              "    .colab-df-convert {\n",
              "      background-color: #E8F0FE;\n",
              "      border: none;\n",
              "      border-radius: 50%;\n",
              "      cursor: pointer;\n",
              "      display: none;\n",
              "      fill: #1967D2;\n",
              "      height: 32px;\n",
              "      padding: 0 0 0 0;\n",
              "      width: 32px;\n",
              "    }\n",
              "\n",
              "    .colab-df-convert:hover {\n",
              "      background-color: #E2EBFA;\n",
              "      box-shadow: 0px 1px 2px rgba(60, 64, 67, 0.3), 0px 1px 3px 1px rgba(60, 64, 67, 0.15);\n",
              "      fill: #174EA6;\n",
              "    }\n",
              "\n",
              "    [theme=dark] .colab-df-convert {\n",
              "      background-color: #3B4455;\n",
              "      fill: #D2E3FC;\n",
              "    }\n",
              "\n",
              "    [theme=dark] .colab-df-convert:hover {\n",
              "      background-color: #434B5C;\n",
              "      box-shadow: 0px 1px 3px 1px rgba(0, 0, 0, 0.15);\n",
              "      filter: drop-shadow(0px 1px 2px rgba(0, 0, 0, 0.3));\n",
              "      fill: #FFFFFF;\n",
              "    }\n",
              "  </style>\n",
              "\n",
              "      <script>\n",
              "        const buttonEl =\n",
              "          document.querySelector('#df-0ba3ceac-eba9-4f81-8657-06d04b8481b1 button.colab-df-convert');\n",
              "        buttonEl.style.display =\n",
              "          google.colab.kernel.accessAllowed ? 'block' : 'none';\n",
              "\n",
              "        async function convertToInteractive(key) {\n",
              "          const element = document.querySelector('#df-0ba3ceac-eba9-4f81-8657-06d04b8481b1');\n",
              "          const dataTable =\n",
              "            await google.colab.kernel.invokeFunction('convertToInteractive',\n",
              "                                                     [key], {});\n",
              "          if (!dataTable) return;\n",
              "\n",
              "          const docLinkHtml = 'Like what you see? Visit the ' +\n",
              "            '<a target=\"_blank\" href=https://colab.research.google.com/notebooks/data_table.ipynb>data table notebook</a>'\n",
              "            + ' to learn more about interactive tables.';\n",
              "          element.innerHTML = '';\n",
              "          dataTable['output_type'] = 'display_data';\n",
              "          await google.colab.output.renderOutput(dataTable, element);\n",
              "          const docLink = document.createElement('div');\n",
              "          docLink.innerHTML = docLinkHtml;\n",
              "          element.appendChild(docLink);\n",
              "        }\n",
              "      </script>\n",
              "    </div>\n",
              "  </div>\n",
              "  "
            ]
          },
          "metadata": {},
          "execution_count": 7
        }
      ]
    },
    {
      "cell_type": "code",
      "source": [
        "y = data1['ONTASK']"
      ],
      "metadata": {
        "id": "Zbic6gncJep7"
      },
      "execution_count": null,
      "outputs": []
    },
    {
      "cell_type": "code",
      "source": [
        "X = data1.drop(['ONTASK'], axis=1)"
      ],
      "metadata": {
        "id": "Nm74ITlEKrOd"
      },
      "execution_count": null,
      "outputs": []
    },
    {
      "cell_type": "code",
      "source": [
        "clf = tree.DecisionTreeClassifier(min_samples_split=10)\n",
        "clf = clf.fit(X, y)"
      ],
      "metadata": {
        "id": "lwiynlHQLZet"
      },
      "execution_count": null,
      "outputs": []
    },
    {
      "cell_type": "code",
      "source": [
        "y_predict = clf.predict(X)"
      ],
      "metadata": {
        "id": "05MB-qcsNPpj"
      },
      "execution_count": null,
      "outputs": []
    },
    {
      "cell_type": "code",
      "source": [
        "cohen_kappa_score( y_predict, y )"
      ],
      "metadata": {
        "colab": {
          "base_uri": "https://localhost:8080/"
        },
        "id": "7L5L3I5-M0pR",
        "outputId": "cb4b170e-2d8f-4d7e-881d-c8e8d5cfef83"
      },
      "execution_count": null,
      "outputs": [
        {
          "output_type": "execute_result",
          "data": {
            "text/plain": [
              "0.7290292370184316"
            ]
          },
          "metadata": {},
          "execution_count": 12
        }
      ]
    },
    {
      "cell_type": "markdown",
      "source": [
        "**Q2 what is kappa if you build model excluding student?**"
      ],
      "metadata": {
        "id": "2vq6LN2ZO6k1"
      }
    },
    {
      "cell_type": "code",
      "source": [
        "x2 = data1.drop(['ONTASK','STUDENTID'], axis=1)"
      ],
      "metadata": {
        "id": "CA8ztzWSO_nT"
      },
      "execution_count": null,
      "outputs": []
    },
    {
      "cell_type": "code",
      "source": [
        "clf = tree.DecisionTreeClassifier(min_samples_split=10)\n",
        "clf = clf.fit(x2, y)"
      ],
      "metadata": {
        "id": "YJ3fQZdiQEYL"
      },
      "execution_count": null,
      "outputs": []
    },
    {
      "cell_type": "code",
      "source": [
        "y_predict = clf.predict(x2)"
      ],
      "metadata": {
        "id": "xgkP9gvUQIuD"
      },
      "execution_count": null,
      "outputs": []
    },
    {
      "cell_type": "code",
      "source": [
        "cohen_kappa_score( y_predict, y )"
      ],
      "metadata": {
        "colab": {
          "base_uri": "https://localhost:8080/"
        },
        "id": "0FS7n91nQNOr",
        "outputId": "a5b8d283-d2b8-46cc-c693-f52348df007e"
      },
      "execution_count": null,
      "outputs": [
        {
          "output_type": "execute_result",
          "data": {
            "text/plain": [
              "0.71654298304154"
            ]
          },
          "metadata": {},
          "execution_count": 16
        }
      ]
    },
    {
      "cell_type": "markdown",
      "source": [
        "**Q 3 Some other features in the data set may make your model overly specific to the current data set. Which data features would not apply outside of the population sampled in the current data set?**"
      ],
      "metadata": {
        "id": "oaLoPOz_C04-"
      }
    },
    {
      "cell_type": "markdown",
      "source": [
        "School; Class; Coder; UNIQUEID"
      ],
      "metadata": {
        "id": "pINuZZ-sDMsl"
      }
    },
    {
      "cell_type": "markdown",
      "source": [
        "**Q 4 what is the non-cross-validated kappa, if you build the decision tree model (use the same operator), excluding student and the variables from question 3?**"
      ],
      "metadata": {
        "id": "t9ZKigI_U7vX"
      }
    },
    {
      "cell_type": "code",
      "source": [
        "data2 = pd.get_dummies(df, columns=['Activity'])"
      ],
      "metadata": {
        "id": "oZWGTvWIV53l"
      },
      "execution_count": null,
      "outputs": []
    },
    {
      "cell_type": "code",
      "source": [
        "x3 = data2.drop(['ONTASK','SCHOOL', 'Class', 'CODER','UNIQUEID','STUDENTID'], axis=1)"
      ],
      "metadata": {
        "id": "XXe-kxIIU-qv"
      },
      "execution_count": null,
      "outputs": []
    },
    {
      "cell_type": "code",
      "source": [
        "y = data2['ONTASK']"
      ],
      "metadata": {
        "id": "mevTzq0qWH7i"
      },
      "execution_count": null,
      "outputs": []
    },
    {
      "cell_type": "code",
      "source": [
        "clf = tree.DecisionTreeClassifier(min_samples_split=10)\n",
        "clf = clf.fit(x3, y)"
      ],
      "metadata": {
        "id": "4lbUrQcsWL6T"
      },
      "execution_count": null,
      "outputs": []
    },
    {
      "cell_type": "code",
      "source": [
        "y_predict = clf.predict(x3)"
      ],
      "metadata": {
        "id": "fTlCqFUzWPnl"
      },
      "execution_count": null,
      "outputs": []
    },
    {
      "cell_type": "code",
      "source": [
        "cohen_kappa_score( y_predict, y )"
      ],
      "metadata": {
        "colab": {
          "base_uri": "https://localhost:8080/"
        },
        "id": "VWaZ49ZPWccI",
        "outputId": "0a0768ff-417d-41ed-8d98-bc8e271a640a"
      },
      "execution_count": null,
      "outputs": [
        {
          "output_type": "execute_result",
          "data": {
            "text/plain": [
              "0.7037709633040681"
            ]
          },
          "metadata": {},
          "execution_count": 22
        }
      ]
    },
    {
      "cell_type": "markdown",
      "source": [
        "**Q5 What is the non-cross-validated kappa for the same set of variables you used for Question 4 if you use Naive Bayes instead of CART?**"
      ],
      "metadata": {
        "id": "BQ5KEvj6XVkQ"
      }
    },
    {
      "cell_type": "code",
      "source": [
        "from sklearn.naive_bayes import GaussianNB"
      ],
      "metadata": {
        "id": "iRFXGa1cXdN8"
      },
      "execution_count": null,
      "outputs": []
    },
    {
      "cell_type": "code",
      "source": [
        "gnb = GaussianNB()\n",
        "gnb.fit(x3, y)"
      ],
      "metadata": {
        "colab": {
          "base_uri": "https://localhost:8080/"
        },
        "id": "tsq-RG6bZIIz",
        "outputId": "f403a10f-a654-4f4f-c5a8-4f8988404ab3"
      },
      "execution_count": null,
      "outputs": [
        {
          "output_type": "execute_result",
          "data": {
            "text/plain": [
              "GaussianNB()"
            ]
          },
          "metadata": {},
          "execution_count": 24
        }
      ]
    },
    {
      "cell_type": "code",
      "source": [
        "predictions = gnb.predict(x3)"
      ],
      "metadata": {
        "id": "3CYrc_2NZ0NW"
      },
      "execution_count": null,
      "outputs": []
    },
    {
      "cell_type": "code",
      "source": [
        "cohen_kappa_score(predictions, y)"
      ],
      "metadata": {
        "colab": {
          "base_uri": "https://localhost:8080/"
        },
        "id": "3jCKm-nvZ_xW",
        "outputId": "f2454156-11d0-4adc-9169-035c360662c1"
      },
      "execution_count": null,
      "outputs": [
        {
          "output_type": "execute_result",
          "data": {
            "text/plain": [
              "0.07280735686960182"
            ]
          },
          "metadata": {},
          "execution_count": 26
        }
      ]
    },
    {
      "cell_type": "markdown",
      "source": [
        "**Q6 What is the non-cross validated kappa for the same set of variables you used for Question 4 if you use extreme gradient boosting instead of CART?**"
      ],
      "metadata": {
        "id": "A1cfSCkWap9v"
      }
    },
    {
      "cell_type": "code",
      "source": [
        "from xgboost import XGBClassifier"
      ],
      "metadata": {
        "id": "-3MX1-IJavCh"
      },
      "execution_count": null,
      "outputs": []
    },
    {
      "cell_type": "code",
      "source": [
        "XGB = XGBClassifier(learning_rate=0.5, n_estimators=200, random_state=5)\n",
        "XGB.fit(x3, y)"
      ],
      "metadata": {
        "colab": {
          "base_uri": "https://localhost:8080/"
        },
        "id": "DUgkmJcka8BJ",
        "outputId": "7a95c58f-2f10-47db-ea3a-2ca087a73d35"
      },
      "execution_count": null,
      "outputs": [
        {
          "output_type": "execute_result",
          "data": {
            "text/plain": [
              "XGBClassifier(learning_rate=0.5, n_estimators=200, random_state=5)"
            ]
          },
          "metadata": {},
          "execution_count": 28
        }
      ]
    },
    {
      "cell_type": "code",
      "source": [
        "predictions = XGB.predict(x3)"
      ],
      "metadata": {
        "id": "fND2peYsbJDq"
      },
      "execution_count": null,
      "outputs": []
    },
    {
      "cell_type": "code",
      "source": [
        "cohen_kappa_score(predictions, y)"
      ],
      "metadata": {
        "colab": {
          "base_uri": "https://localhost:8080/"
        },
        "id": "kDnBBJ9gbPTZ",
        "outputId": "976bf7e1-b9ca-4e8d-cf85-d394b3a015a5"
      },
      "execution_count": null,
      "outputs": [
        {
          "output_type": "execute_result",
          "data": {
            "text/plain": [
              "0.21943186190868447"
            ]
          },
          "metadata": {},
          "execution_count": 30
        }
      ]
    },
    {
      "cell_type": "markdown",
      "source": [
        "**Q 7 What is the kappa, if you delete School, Class, Coder, UNIQUEID, and STUDENTID, use CART, and conduct 10-fold student-level batch cross-validation using the basic decision tree classifier?**"
      ],
      "metadata": {
        "id": "BCzG-qHQcOgT"
      }
    },
    {
      "cell_type": "code",
      "source": [
        "data2 = pd.get_dummies(df, columns=['Activity'])"
      ],
      "metadata": {
        "id": "qPtgaogvpV2x"
      },
      "execution_count": null,
      "outputs": []
    },
    {
      "cell_type": "code",
      "source": [
        "x3 = data2.drop(['ONTASK', 'SCHOOL', 'Class', 'CODER','UNIQUEID','STUDENTID'], axis=1)\n",
        "y = data2['ONTASK']"
      ],
      "metadata": {
        "id": "cJHGQolQpdDi"
      },
      "execution_count": null,
      "outputs": []
    },
    {
      "cell_type": "code",
      "source": [
        "from sklearn.model_selection import GroupKFold"
      ],
      "metadata": {
        "id": "IzMUL0vWdLX8"
      },
      "execution_count": null,
      "outputs": []
    },
    {
      "cell_type": "code",
      "source": [
        "group_dict = {}\n",
        "groups = np.array([])"
      ],
      "metadata": {
        "id": "tffWyBDWg-9T"
      },
      "execution_count": null,
      "outputs": []
    },
    {
      "cell_type": "code",
      "source": [
        "for index, row in data1.iterrows():\n",
        "    student_id = row['STUDENTID']\n",
        "    if student_id not in group_dict:\n",
        "        group_dict[student_id] = index\n",
        "    groups = np.append(groups, group_dict[student_id])"
      ],
      "metadata": {
        "id": "lzIwJCzghEM5"
      },
      "execution_count": null,
      "outputs": []
    },
    {
      "cell_type": "code",
      "source": [
        "groups"
      ],
      "metadata": {
        "colab": {
          "base_uri": "https://localhost:8080/"
        },
        "id": "Y97cq08MGud3",
        "outputId": "570b0272-b2f9-4a09-85de-71895caab659"
      },
      "execution_count": null,
      "outputs": [
        {
          "output_type": "execute_result",
          "data": {
            "text/plain": [
              "array([0.0000e+00, 1.0000e+00, 2.0000e+00, ..., 2.7395e+04, 7.6110e+03,\n",
              "       4.7610e+03])"
            ]
          },
          "metadata": {},
          "execution_count": 36
        }
      ]
    },
    {
      "cell_type": "code",
      "source": [
        "gkf = GroupKFold(n_splits=10)"
      ],
      "metadata": {
        "id": "Drusks5-kvRQ"
      },
      "execution_count": null,
      "outputs": []
    },
    {
      "cell_type": "code",
      "source": [
        "kappa_values = list()\n",
        "\n",
        "for train_index, test_index in gkf.split(x3, y, groups=groups):\n",
        "    x3_train = x3.iloc[train_index]\n",
        "    x3_test = x3.iloc[test_index]\n",
        "    y_train = y[train_index]\n",
        "    y_test = y[test_index]\n",
        "    clf = tree.DecisionTreeClassifier(min_samples_split=10)\n",
        "    clf.fit(x3_train, y_train)\n",
        "    predictions = clf.predict(x3_test)\n",
        "    kappa = cohen_kappa_score(y_test, predictions)\n",
        "    kappa_values.append(kappa)\n",
        "kappa_values\n",
        "\n"
      ],
      "metadata": {
        "id": "8q3H1R7yldHK",
        "outputId": "41a8816f-5280-424e-ce75-3f48b3dfc992",
        "colab": {
          "base_uri": "https://localhost:8080/"
        }
      },
      "execution_count": null,
      "outputs": [
        {
          "output_type": "execute_result",
          "data": {
            "text/plain": [
              "[0.10525036198862003,\n",
              " 0.06330859012790258,\n",
              " 0.08622415638735625,\n",
              " 0.11500925399466055,\n",
              " 0.11990563154602607,\n",
              " 0.14844861482644467,\n",
              " 0.07109172787200324,\n",
              " 0.11471526195899773,\n",
              " 0.11744501125853923,\n",
              " 0.08528348120008211]"
            ]
          },
          "metadata": {},
          "execution_count": 145
        }
      ]
    },
    {
      "cell_type": "code",
      "source": [
        "print('Mean:',np.mean(kappa_values)) "
      ],
      "metadata": {
        "colab": {
          "base_uri": "https://localhost:8080/"
        },
        "id": "Nt8hhchDulIm",
        "outputId": "e69f6a33-0595-4722-ff37-4b377e51e3fc"
      },
      "execution_count": null,
      "outputs": [
        {
          "output_type": "stream",
          "name": "stdout",
          "text": [
            "Mean: 0.10104878221183386\n"
          ]
        }
      ]
    },
    {
      "cell_type": "markdown",
      "source": [
        "**Q8 What is the kappa, for the same set of variables you used for question 4, if you use Naive Bayes, and conduct 10-fold student-level batch cross-validation?**"
      ],
      "metadata": {
        "id": "4QYB7dFHmNjr"
      }
    },
    {
      "cell_type": "code",
      "source": [
        "data2 = pd.get_dummies(df, columns=['Activity'])\n",
        "x3 = data2.drop(['ONTASK', 'SCHOOL', 'Class', 'CODER','UNIQUEID','STUDENTID'], axis=1)\n",
        "y = data2['ONTASK']"
      ],
      "metadata": {
        "id": "aehQ1ZDb7seY"
      },
      "execution_count": null,
      "outputs": []
    },
    {
      "cell_type": "code",
      "source": [
        "group_dict = {}\n",
        "groups = np.array([])"
      ],
      "metadata": {
        "id": "Y-PX7vVW7Mct"
      },
      "execution_count": null,
      "outputs": []
    },
    {
      "cell_type": "code",
      "source": [
        "for index, row in data1.iterrows():\n",
        "    student_id = row['STUDENTID']\n",
        "    if student_id not in group_dict:\n",
        "        group_dict[student_id] = index\n",
        "    groups = np.append(groups, group_dict[student_id])"
      ],
      "metadata": {
        "id": "3WnFI5hZ7RYv"
      },
      "execution_count": null,
      "outputs": []
    },
    {
      "cell_type": "code",
      "source": [
        "gkf = GroupKFold(n_splits=10)"
      ],
      "metadata": {
        "id": "oSNi-_LE72We"
      },
      "execution_count": null,
      "outputs": []
    },
    {
      "cell_type": "code",
      "source": [
        "kappa_values = list()\n",
        "\n",
        "for train_index, test_index in gkf.split(x3, y, groups=groups):\n",
        "    x3_train = x3.iloc[train_index]\n",
        "    x3_test = x3.iloc[test_index]\n",
        "    y_train = y[train_index]\n",
        "    y_test = y[test_index]\n",
        "    gnb = GaussianNB()\n",
        "    gnb.fit(x3_train, y_train.ravel())\n",
        "    predictions = gnb.predict(x3_test)\n",
        "    kappa = cohen_kappa_score(y_test, predictions)\n",
        "    kappa_values.append(kappa)\n",
        "kappa_values\n"
      ],
      "metadata": {
        "colab": {
          "base_uri": "https://localhost:8080/"
        },
        "id": "TQuDxqls1C8d",
        "outputId": "dfcc0dec-3241-488d-90d4-8bdda50ee884"
      },
      "execution_count": null,
      "outputs": [
        {
          "output_type": "execute_result",
          "data": {
            "text/plain": [
              "[0.024748638626596597,\n",
              " 0.09535154892495845,\n",
              " 0.030661741059549774,\n",
              " 0.08747049658493666,\n",
              " 0.04116513229724095,\n",
              " 0.07790501784926396,\n",
              " 0.055647959860306906,\n",
              " 0.05917452264919698,\n",
              " 0.03467028811026751,\n",
              " 0.08402167428712604]"
            ]
          },
          "metadata": {},
          "execution_count": 183
        }
      ]
    },
    {
      "cell_type": "code",
      "source": [
        "print('Mean:',np.mean(kappa_values)) "
      ],
      "metadata": {
        "colab": {
          "base_uri": "https://localhost:8080/"
        },
        "id": "HKyXLx5i8Wj5",
        "outputId": "a5eea9e7-1ebd-4a08-84ea-2ca1d0b8a713"
      },
      "execution_count": null,
      "outputs": [
        {
          "output_type": "stream",
          "name": "stdout",
          "text": [
            "Mean: 0.05908170202494438\n"
          ]
        }
      ]
    },
    {
      "cell_type": "markdown",
      "source": [
        "**Q 9 What is the kappa, for the same set of variables you used for question 4, if you use Extreme Gradient Boosting, and conduct 10-fold student-level batch cross-validation?**"
      ],
      "metadata": {
        "id": "AE_YHFU68wPR"
      }
    },
    {
      "cell_type": "code",
      "source": [
        "data2 = pd.get_dummies(df, columns=['Activity'])\n",
        "x3 = data2.drop(['ONTASK', 'SCHOOL', 'Class', 'CODER','UNIQUEID','STUDENTID'], axis=1)\n",
        "y = data2['ONTASK']\n",
        "\n",
        "group_dict = {}\n",
        "groups = np.array([])\n",
        "\n",
        "for index, row in data1.iterrows():\n",
        "    student_id = row['STUDENTID']\n",
        "    if student_id not in group_dict:\n",
        "        group_dict[student_id] = index\n",
        "    groups = np.append(groups, group_dict[student_id])\n",
        "\n",
        "gkf = GroupKFold(n_splits=10)\n"
      ],
      "metadata": {
        "id": "KkNQ3J4A_wLr"
      },
      "execution_count": null,
      "outputs": []
    },
    {
      "cell_type": "code",
      "source": [
        "kappa_values = list()\n",
        "\n",
        "for train_index, test_index in gkf.split(x3, y, groups=groups):\n",
        "    x3_train = x3.iloc[train_index]\n",
        "    x3_test = x3.iloc[test_index]\n",
        "    y_train = y[train_index]\n",
        "    y_test = y[test_index]\n",
        "    xgb = XGBClassifier(learning_rate=0.5, n_estimators=200, random_state=5)\n",
        "    xgb.fit(x3_train, y_train)\n",
        "    predictions = xgb.predict(x3_test)\n",
        "    kappa = cohen_kappa_score(y_test, predictions)\n",
        "    kappa_values.append(kappa)\n",
        "kappa_values\n",
        "    "
      ],
      "metadata": {
        "colab": {
          "base_uri": "https://localhost:8080/"
        },
        "id": "lRK9gWv681_9",
        "outputId": "be4a4764-4b56-48f1-ddc2-2cda0b90da97"
      },
      "execution_count": null,
      "outputs": [
        {
          "output_type": "execute_result",
          "data": {
            "text/plain": [
              "[0.05027062706270635,\n",
              " 0.0598938808134345,\n",
              " 0.07441585171664555,\n",
              " 0.08548311592127045,\n",
              " 0.12377205925509371,\n",
              " 0.1487899160569972,\n",
              " 0.10462757249981414,\n",
              " 0.09787314542064163,\n",
              " 0.10016315892089367,\n",
              " 0.1252807023483078]"
            ]
          },
          "metadata": {},
          "execution_count": 224
        }
      ]
    },
    {
      "cell_type": "code",
      "source": [
        "print('Mean:',np.mean(kappa_values)) "
      ],
      "metadata": {
        "colab": {
          "base_uri": "https://localhost:8080/"
        },
        "id": "BDBEwIXq-Cuz",
        "outputId": "7ac40c17-b2a7-4f0d-c335-f68fd59c0b5d"
      },
      "execution_count": null,
      "outputs": [
        {
          "output_type": "stream",
          "name": "stdout",
          "text": [
            "Mean: 0.0970570030015805\n"
          ]
        }
      ]
    }
  ]
}