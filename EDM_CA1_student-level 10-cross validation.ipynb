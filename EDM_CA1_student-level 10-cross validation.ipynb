{
  "nbformat": 4,
  "nbformat_minor": 0,
  "metadata": {
    "colab": {
      "provenance": [],
      "collapsed_sections": [],
      "authorship_tag": "ABX9TyMU9KRjSgn4qKRqvkqsU7oY",
      "include_colab_link": true
    },
    "kernelspec": {
      "name": "python3",
      "display_name": "Python 3"
    },
    "language_info": {
      "name": "python"
    }
  },
  "cells": [
    {
      "cell_type": "markdown",
      "metadata": {
        "id": "view-in-github",
        "colab_type": "text"
      },
      "source": [
        "<a href=\"https://colab.research.google.com/github/AliceAii/Education-Data-Mining/blob/main/EDM_CA1_student-level%2010-cross%20validation.ipynb\" target=\"_parent\"><img src=\"https://colab.research.google.com/assets/colab-badge.svg\" alt=\"Open In Colab\"/></a>"
      ]
    },
    {
      "cell_type": "code",
      "execution_count": null,
      "metadata": {
        "id": "6E7Bt5r7eE0N"
      },
      "outputs": [],
      "source": [
        "import numpy as np\n",
        "import pandas as pd\n",
        "from sklearn import metrics\n",
        "\n",
        "df = pd.read_csv('ca1-dataset.csv')"
      ]
    },
    {
      "cell_type": "code",
      "source": [
        "from sklearn import tree\n",
        "from sklearn.metrics import cohen_kappa_score"
      ],
      "metadata": {
        "id": "cfzwRdz4eRoX"
      },
      "execution_count": null,
      "outputs": []
    },
    {
      "cell_type": "code",
      "source": [
        "y = df['OffTask']"
      ],
      "metadata": {
        "id": "_aw6RNCXeVzr"
      },
      "execution_count": null,
      "outputs": []
    },
    {
      "cell_type": "code",
      "source": [
        "y = y.replace(to_replace=['N', 'Y'], value=[0, 1])"
      ],
      "metadata": {
        "id": "1FAIDsbYeaN1"
      },
      "execution_count": null,
      "outputs": []
    },
    {
      "cell_type": "code",
      "source": [
        "x = df.drop(['OffTask', 'namea', 'Unique-id'], axis=1)"
      ],
      "metadata": {
        "id": "s4lMr78XecPZ"
      },
      "execution_count": null,
      "outputs": []
    },
    {
      "cell_type": "code",
      "source": [
        "x"
      ],
      "metadata": {
        "id": "Zk_IhHXQehQ-",
        "outputId": "6184dec2-bc1c-4799-9d05-aed633793f71",
        "colab": {
          "base_uri": "https://localhost:8080/",
          "height": 505
        }
      },
      "execution_count": null,
      "outputs": [
        {
          "output_type": "execute_result",
          "data": {
            "text/plain": [
              "     Avgright  Avgbug  Avghelp  Avgchoice  Avgstring  Avgnumber  Avgpoint  \\\n",
              "0    1.000000     0.0        0          0          0          0         0   \n",
              "1    1.000000     0.0        0          0          0          0         0   \n",
              "2    1.000000     0.0        0          0          0          0         0   \n",
              "3    0.833333     0.0        0          0          0          0         0   \n",
              "4    1.000000     0.0        0          0          0          0         0   \n",
              "..        ...     ...      ...        ...        ...        ...       ...   \n",
              "758  0.000000     0.0        0          0          0          0         0   \n",
              "759  1.000000     0.0        0          0          0          0         0   \n",
              "760  1.000000     0.0        0          0          0          0         0   \n",
              "761  1.000000     0.0        0          0          0          0         0   \n",
              "762  0.666667     0.0        0          0          0          0         0   \n",
              "\n",
              "     Avgpchange    Avgtime  AvgtimeSDnormed  ...  Avghelppct-up  \\\n",
              "0      0.000000  12.000000         0.446098  ...              0   \n",
              "1      0.000000   7.500000        -0.260956  ...              0   \n",
              "2      0.000000  25.333333         0.301574  ...              0   \n",
              "3      0.000000   3.500000        -0.554844  ...              0   \n",
              "4      0.000000   5.250000        -0.525770  ...              0   \n",
              "..          ...        ...              ...  ...            ...   \n",
              "758    1.000000  56.000000         5.110030  ...              0   \n",
              "759    0.000000   6.000000         0.042553  ...              0   \n",
              "760    0.000000  14.000000         0.339286  ...              0   \n",
              "761    0.000000   5.000000        -0.329097  ...              0   \n",
              "762    0.333333  11.000000         0.813424  ...              0   \n",
              "\n",
              "     Avgwrongpct-up  Avgtimeperact-up  AvgPrev3Count-up  AvgPrev5Count-up  \\\n",
              "0          0.000000         12.000000          0.000000          0.000000   \n",
              "1          0.000000          8.750000          0.000000          0.000000   \n",
              "2          0.000000         26.083333          0.000000          0.000000   \n",
              "3          0.166667          4.902778          0.000000          0.000000   \n",
              "4          0.000000          5.875000          0.000000          0.000000   \n",
              "..              ...               ...               ...               ...   \n",
              "758        4.000000         17.500000          2.000000          4.000000   \n",
              "759        0.000000          6.533333          0.000000          0.000000   \n",
              "760        0.000000         17.076923          0.000000          0.000000   \n",
              "761        0.000000         16.777778          0.000000          0.000000   \n",
              "762        0.333333          8.148148          0.333333          0.333333   \n",
              "\n",
              "     Avgrecent8help  Avg recent5wrong  Avgmanywrong-up  AvgasymptoteA-up  \\\n",
              "0                 0          1.000000              0.0                 0   \n",
              "1                 0          0.000000              0.0                 0   \n",
              "2                 0          1.000000              0.0                 0   \n",
              "3                 0          0.000000              0.0                 0   \n",
              "4                 0          0.000000              0.0                 0   \n",
              "..              ...               ...              ...               ...   \n",
              "758               0          0.000000              0.0                 0   \n",
              "759               0          0.000000              0.0                 0   \n",
              "760               0          2.000000              0.0                 0   \n",
              "761               0          0.000000              0.0                 0   \n",
              "762               0          1.666667              0.0                 0   \n",
              "\n",
              "     AvgasymptoteB-up  \n",
              "0                   0  \n",
              "1                   0  \n",
              "2                   0  \n",
              "3                   0  \n",
              "4                   0  \n",
              "..                ...  \n",
              "758                 0  \n",
              "759                 0  \n",
              "760                 0  \n",
              "761                 0  \n",
              "762                 0  \n",
              "\n",
              "[763 rows x 24 columns]"
            ],
            "text/html": [
              "\n",
              "  <div id=\"df-a91da0e7-58b8-4b19-8a73-1c547ccf4442\">\n",
              "    <div class=\"colab-df-container\">\n",
              "      <div>\n",
              "<style scoped>\n",
              "    .dataframe tbody tr th:only-of-type {\n",
              "        vertical-align: middle;\n",
              "    }\n",
              "\n",
              "    .dataframe tbody tr th {\n",
              "        vertical-align: top;\n",
              "    }\n",
              "\n",
              "    .dataframe thead th {\n",
              "        text-align: right;\n",
              "    }\n",
              "</style>\n",
              "<table border=\"1\" class=\"dataframe\">\n",
              "  <thead>\n",
              "    <tr style=\"text-align: right;\">\n",
              "      <th></th>\n",
              "      <th>Avgright</th>\n",
              "      <th>Avgbug</th>\n",
              "      <th>Avghelp</th>\n",
              "      <th>Avgchoice</th>\n",
              "      <th>Avgstring</th>\n",
              "      <th>Avgnumber</th>\n",
              "      <th>Avgpoint</th>\n",
              "      <th>Avgpchange</th>\n",
              "      <th>Avgtime</th>\n",
              "      <th>AvgtimeSDnormed</th>\n",
              "      <th>...</th>\n",
              "      <th>Avghelppct-up</th>\n",
              "      <th>Avgwrongpct-up</th>\n",
              "      <th>Avgtimeperact-up</th>\n",
              "      <th>AvgPrev3Count-up</th>\n",
              "      <th>AvgPrev5Count-up</th>\n",
              "      <th>Avgrecent8help</th>\n",
              "      <th>Avg recent5wrong</th>\n",
              "      <th>Avgmanywrong-up</th>\n",
              "      <th>AvgasymptoteA-up</th>\n",
              "      <th>AvgasymptoteB-up</th>\n",
              "    </tr>\n",
              "  </thead>\n",
              "  <tbody>\n",
              "    <tr>\n",
              "      <th>0</th>\n",
              "      <td>1.000000</td>\n",
              "      <td>0.0</td>\n",
              "      <td>0</td>\n",
              "      <td>0</td>\n",
              "      <td>0</td>\n",
              "      <td>0</td>\n",
              "      <td>0</td>\n",
              "      <td>0.000000</td>\n",
              "      <td>12.000000</td>\n",
              "      <td>0.446098</td>\n",
              "      <td>...</td>\n",
              "      <td>0</td>\n",
              "      <td>0.000000</td>\n",
              "      <td>12.000000</td>\n",
              "      <td>0.000000</td>\n",
              "      <td>0.000000</td>\n",
              "      <td>0</td>\n",
              "      <td>1.000000</td>\n",
              "      <td>0.0</td>\n",
              "      <td>0</td>\n",
              "      <td>0</td>\n",
              "    </tr>\n",
              "    <tr>\n",
              "      <th>1</th>\n",
              "      <td>1.000000</td>\n",
              "      <td>0.0</td>\n",
              "      <td>0</td>\n",
              "      <td>0</td>\n",
              "      <td>0</td>\n",
              "      <td>0</td>\n",
              "      <td>0</td>\n",
              "      <td>0.000000</td>\n",
              "      <td>7.500000</td>\n",
              "      <td>-0.260956</td>\n",
              "      <td>...</td>\n",
              "      <td>0</td>\n",
              "      <td>0.000000</td>\n",
              "      <td>8.750000</td>\n",
              "      <td>0.000000</td>\n",
              "      <td>0.000000</td>\n",
              "      <td>0</td>\n",
              "      <td>0.000000</td>\n",
              "      <td>0.0</td>\n",
              "      <td>0</td>\n",
              "      <td>0</td>\n",
              "    </tr>\n",
              "    <tr>\n",
              "      <th>2</th>\n",
              "      <td>1.000000</td>\n",
              "      <td>0.0</td>\n",
              "      <td>0</td>\n",
              "      <td>0</td>\n",
              "      <td>0</td>\n",
              "      <td>0</td>\n",
              "      <td>0</td>\n",
              "      <td>0.000000</td>\n",
              "      <td>25.333333</td>\n",
              "      <td>0.301574</td>\n",
              "      <td>...</td>\n",
              "      <td>0</td>\n",
              "      <td>0.000000</td>\n",
              "      <td>26.083333</td>\n",
              "      <td>0.000000</td>\n",
              "      <td>0.000000</td>\n",
              "      <td>0</td>\n",
              "      <td>1.000000</td>\n",
              "      <td>0.0</td>\n",
              "      <td>0</td>\n",
              "      <td>0</td>\n",
              "    </tr>\n",
              "    <tr>\n",
              "      <th>3</th>\n",
              "      <td>0.833333</td>\n",
              "      <td>0.0</td>\n",
              "      <td>0</td>\n",
              "      <td>0</td>\n",
              "      <td>0</td>\n",
              "      <td>0</td>\n",
              "      <td>0</td>\n",
              "      <td>0.000000</td>\n",
              "      <td>3.500000</td>\n",
              "      <td>-0.554844</td>\n",
              "      <td>...</td>\n",
              "      <td>0</td>\n",
              "      <td>0.166667</td>\n",
              "      <td>4.902778</td>\n",
              "      <td>0.000000</td>\n",
              "      <td>0.000000</td>\n",
              "      <td>0</td>\n",
              "      <td>0.000000</td>\n",
              "      <td>0.0</td>\n",
              "      <td>0</td>\n",
              "      <td>0</td>\n",
              "    </tr>\n",
              "    <tr>\n",
              "      <th>4</th>\n",
              "      <td>1.000000</td>\n",
              "      <td>0.0</td>\n",
              "      <td>0</td>\n",
              "      <td>0</td>\n",
              "      <td>0</td>\n",
              "      <td>0</td>\n",
              "      <td>0</td>\n",
              "      <td>0.000000</td>\n",
              "      <td>5.250000</td>\n",
              "      <td>-0.525770</td>\n",
              "      <td>...</td>\n",
              "      <td>0</td>\n",
              "      <td>0.000000</td>\n",
              "      <td>5.875000</td>\n",
              "      <td>0.000000</td>\n",
              "      <td>0.000000</td>\n",
              "      <td>0</td>\n",
              "      <td>0.000000</td>\n",
              "      <td>0.0</td>\n",
              "      <td>0</td>\n",
              "      <td>0</td>\n",
              "    </tr>\n",
              "    <tr>\n",
              "      <th>...</th>\n",
              "      <td>...</td>\n",
              "      <td>...</td>\n",
              "      <td>...</td>\n",
              "      <td>...</td>\n",
              "      <td>...</td>\n",
              "      <td>...</td>\n",
              "      <td>...</td>\n",
              "      <td>...</td>\n",
              "      <td>...</td>\n",
              "      <td>...</td>\n",
              "      <td>...</td>\n",
              "      <td>...</td>\n",
              "      <td>...</td>\n",
              "      <td>...</td>\n",
              "      <td>...</td>\n",
              "      <td>...</td>\n",
              "      <td>...</td>\n",
              "      <td>...</td>\n",
              "      <td>...</td>\n",
              "      <td>...</td>\n",
              "      <td>...</td>\n",
              "    </tr>\n",
              "    <tr>\n",
              "      <th>758</th>\n",
              "      <td>0.000000</td>\n",
              "      <td>0.0</td>\n",
              "      <td>0</td>\n",
              "      <td>0</td>\n",
              "      <td>0</td>\n",
              "      <td>0</td>\n",
              "      <td>0</td>\n",
              "      <td>1.000000</td>\n",
              "      <td>56.000000</td>\n",
              "      <td>5.110030</td>\n",
              "      <td>...</td>\n",
              "      <td>0</td>\n",
              "      <td>4.000000</td>\n",
              "      <td>17.500000</td>\n",
              "      <td>2.000000</td>\n",
              "      <td>4.000000</td>\n",
              "      <td>0</td>\n",
              "      <td>0.000000</td>\n",
              "      <td>0.0</td>\n",
              "      <td>0</td>\n",
              "      <td>0</td>\n",
              "    </tr>\n",
              "    <tr>\n",
              "      <th>759</th>\n",
              "      <td>1.000000</td>\n",
              "      <td>0.0</td>\n",
              "      <td>0</td>\n",
              "      <td>0</td>\n",
              "      <td>0</td>\n",
              "      <td>0</td>\n",
              "      <td>0</td>\n",
              "      <td>0.000000</td>\n",
              "      <td>6.000000</td>\n",
              "      <td>0.042553</td>\n",
              "      <td>...</td>\n",
              "      <td>0</td>\n",
              "      <td>0.000000</td>\n",
              "      <td>6.533333</td>\n",
              "      <td>0.000000</td>\n",
              "      <td>0.000000</td>\n",
              "      <td>0</td>\n",
              "      <td>0.000000</td>\n",
              "      <td>0.0</td>\n",
              "      <td>0</td>\n",
              "      <td>0</td>\n",
              "    </tr>\n",
              "    <tr>\n",
              "      <th>760</th>\n",
              "      <td>1.000000</td>\n",
              "      <td>0.0</td>\n",
              "      <td>0</td>\n",
              "      <td>0</td>\n",
              "      <td>0</td>\n",
              "      <td>0</td>\n",
              "      <td>0</td>\n",
              "      <td>0.000000</td>\n",
              "      <td>14.000000</td>\n",
              "      <td>0.339286</td>\n",
              "      <td>...</td>\n",
              "      <td>0</td>\n",
              "      <td>0.000000</td>\n",
              "      <td>17.076923</td>\n",
              "      <td>0.000000</td>\n",
              "      <td>0.000000</td>\n",
              "      <td>0</td>\n",
              "      <td>2.000000</td>\n",
              "      <td>0.0</td>\n",
              "      <td>0</td>\n",
              "      <td>0</td>\n",
              "    </tr>\n",
              "    <tr>\n",
              "      <th>761</th>\n",
              "      <td>1.000000</td>\n",
              "      <td>0.0</td>\n",
              "      <td>0</td>\n",
              "      <td>0</td>\n",
              "      <td>0</td>\n",
              "      <td>0</td>\n",
              "      <td>0</td>\n",
              "      <td>0.000000</td>\n",
              "      <td>5.000000</td>\n",
              "      <td>-0.329097</td>\n",
              "      <td>...</td>\n",
              "      <td>0</td>\n",
              "      <td>0.000000</td>\n",
              "      <td>16.777778</td>\n",
              "      <td>0.000000</td>\n",
              "      <td>0.000000</td>\n",
              "      <td>0</td>\n",
              "      <td>0.000000</td>\n",
              "      <td>0.0</td>\n",
              "      <td>0</td>\n",
              "      <td>0</td>\n",
              "    </tr>\n",
              "    <tr>\n",
              "      <th>762</th>\n",
              "      <td>0.666667</td>\n",
              "      <td>0.0</td>\n",
              "      <td>0</td>\n",
              "      <td>0</td>\n",
              "      <td>0</td>\n",
              "      <td>0</td>\n",
              "      <td>0</td>\n",
              "      <td>0.333333</td>\n",
              "      <td>11.000000</td>\n",
              "      <td>0.813424</td>\n",
              "      <td>...</td>\n",
              "      <td>0</td>\n",
              "      <td>0.333333</td>\n",
              "      <td>8.148148</td>\n",
              "      <td>0.333333</td>\n",
              "      <td>0.333333</td>\n",
              "      <td>0</td>\n",
              "      <td>1.666667</td>\n",
              "      <td>0.0</td>\n",
              "      <td>0</td>\n",
              "      <td>0</td>\n",
              "    </tr>\n",
              "  </tbody>\n",
              "</table>\n",
              "<p>763 rows × 24 columns</p>\n",
              "</div>\n",
              "      <button class=\"colab-df-convert\" onclick=\"convertToInteractive('df-a91da0e7-58b8-4b19-8a73-1c547ccf4442')\"\n",
              "              title=\"Convert this dataframe to an interactive table.\"\n",
              "              style=\"display:none;\">\n",
              "        \n",
              "  <svg xmlns=\"http://www.w3.org/2000/svg\" height=\"24px\"viewBox=\"0 0 24 24\"\n",
              "       width=\"24px\">\n",
              "    <path d=\"M0 0h24v24H0V0z\" fill=\"none\"/>\n",
              "    <path d=\"M18.56 5.44l.94 2.06.94-2.06 2.06-.94-2.06-.94-.94-2.06-.94 2.06-2.06.94zm-11 1L8.5 8.5l.94-2.06 2.06-.94-2.06-.94L8.5 2.5l-.94 2.06-2.06.94zm10 10l.94 2.06.94-2.06 2.06-.94-2.06-.94-.94-2.06-.94 2.06-2.06.94z\"/><path d=\"M17.41 7.96l-1.37-1.37c-.4-.4-.92-.59-1.43-.59-.52 0-1.04.2-1.43.59L10.3 9.45l-7.72 7.72c-.78.78-.78 2.05 0 2.83L4 21.41c.39.39.9.59 1.41.59.51 0 1.02-.2 1.41-.59l7.78-7.78 2.81-2.81c.8-.78.8-2.07 0-2.86zM5.41 20L4 18.59l7.72-7.72 1.47 1.35L5.41 20z\"/>\n",
              "  </svg>\n",
              "      </button>\n",
              "      \n",
              "  <style>\n",
              "    .colab-df-container {\n",
              "      display:flex;\n",
              "      flex-wrap:wrap;\n",
              "      gap: 12px;\n",
              "    }\n",
              "\n",
              "    .colab-df-convert {\n",
              "      background-color: #E8F0FE;\n",
              "      border: none;\n",
              "      border-radius: 50%;\n",
              "      cursor: pointer;\n",
              "      display: none;\n",
              "      fill: #1967D2;\n",
              "      height: 32px;\n",
              "      padding: 0 0 0 0;\n",
              "      width: 32px;\n",
              "    }\n",
              "\n",
              "    .colab-df-convert:hover {\n",
              "      background-color: #E2EBFA;\n",
              "      box-shadow: 0px 1px 2px rgba(60, 64, 67, 0.3), 0px 1px 3px 1px rgba(60, 64, 67, 0.15);\n",
              "      fill: #174EA6;\n",
              "    }\n",
              "\n",
              "    [theme=dark] .colab-df-convert {\n",
              "      background-color: #3B4455;\n",
              "      fill: #D2E3FC;\n",
              "    }\n",
              "\n",
              "    [theme=dark] .colab-df-convert:hover {\n",
              "      background-color: #434B5C;\n",
              "      box-shadow: 0px 1px 3px 1px rgba(0, 0, 0, 0.15);\n",
              "      filter: drop-shadow(0px 1px 2px rgba(0, 0, 0, 0.3));\n",
              "      fill: #FFFFFF;\n",
              "    }\n",
              "  </style>\n",
              "\n",
              "      <script>\n",
              "        const buttonEl =\n",
              "          document.querySelector('#df-a91da0e7-58b8-4b19-8a73-1c547ccf4442 button.colab-df-convert');\n",
              "        buttonEl.style.display =\n",
              "          google.colab.kernel.accessAllowed ? 'block' : 'none';\n",
              "\n",
              "        async function convertToInteractive(key) {\n",
              "          const element = document.querySelector('#df-a91da0e7-58b8-4b19-8a73-1c547ccf4442');\n",
              "          const dataTable =\n",
              "            await google.colab.kernel.invokeFunction('convertToInteractive',\n",
              "                                                     [key], {});\n",
              "          if (!dataTable) return;\n",
              "\n",
              "          const docLinkHtml = 'Like what you see? Visit the ' +\n",
              "            '<a target=\"_blank\" href=https://colab.research.google.com/notebooks/data_table.ipynb>data table notebook</a>'\n",
              "            + ' to learn more about interactive tables.';\n",
              "          element.innerHTML = '';\n",
              "          dataTable['output_type'] = 'display_data';\n",
              "          await google.colab.output.renderOutput(dataTable, element);\n",
              "          const docLink = document.createElement('div');\n",
              "          docLink.innerHTML = docLinkHtml;\n",
              "          element.appendChild(docLink);\n",
              "        }\n",
              "      </script>\n",
              "    </div>\n",
              "  </div>\n",
              "  "
            ]
          },
          "metadata": {},
          "execution_count": 6
        }
      ]
    },
    {
      "cell_type": "code",
      "source": [
        "from numpy import loadtxt\n",
        "from xgboost import XGBClassifier\n",
        "from sklearn.model_selection import train_test_split\n",
        "from sklearn.metrics import accuracy_score\n",
        "from sklearn.model_selection import KFold\n",
        "from sklearn.model_selection import cross_val_score"
      ],
      "metadata": {
        "id": "Y0psG6RKfDZz"
      },
      "execution_count": null,
      "outputs": []
    },
    {
      "cell_type": "code",
      "source": [
        "from matplotlib import pyplot"
      ],
      "metadata": {
        "id": "6pJbib2IfF6S"
      },
      "execution_count": null,
      "outputs": []
    },
    {
      "cell_type": "code",
      "source": [
        "# fit model no training data\n",
        "model = XGBClassifier(learning_rate=0.5, n_estimators=200, random_state=5)\n",
        "model.fit(x, y)\n",
        "\n",
        "print(model.feature_importances_)\n",
        "\n",
        "# plot\n",
        "pyplot.bar(range(len(model.feature_importances_)), model.feature_importances_)\n",
        "pyplot.show()"
      ],
      "metadata": {
        "colab": {
          "base_uri": "https://localhost:8080/",
          "height": 334
        },
        "id": "1KJE_-C9fIcp",
        "outputId": "884f441b-4cdb-4290-8e3f-2c78973bd3fe"
      },
      "execution_count": null,
      "outputs": [
        {
          "output_type": "stream",
          "name": "stdout",
          "text": [
            "[0.19975223 0.         0.         0.         0.         0.\n",
            " 0.         0.06021681 0.08854242 0.04743927 0.06255217 0.08467897\n",
            " 0.         0.04000929 0.         0.06104936 0.03979717 0.09150894\n",
            " 0.17918779 0.         0.04526564 0.         0.         0.        ]\n"
          ]
        },
        {
          "output_type": "display_data",
          "data": {
            "text/plain": [
              "<Figure size 432x288 with 1 Axes>"
            ],
            "image/png": "[encoded data removed]"
          },
          "metadata": {
            "needs_background": "light"
          }
        }
      ]
    },
    {
      "cell_type": "code",
      "source": [
        "x\n"
      ],
      "metadata": {
        "id": "AehI9QuKfOfx"
      },
      "execution_count": null,
      "outputs": []
    },
    {
      "cell_type": "code",
      "source": [
        "x1 = df.drop(['OffTask', 'namea', 'Unique-id', 'Avgbug', 'Avghelp', 'Avgchoice', 'Avgstring', 'Avgnumber', 'Avgpoint', 'Avgnotright', 'Avghelppct-up', 'Avgrecent8help', 'Avgmanywrong-up', 'AvgasymptoteA-up', 'AvgasymptoteB-up'], axis=1)"
      ],
      "metadata": {
        "id": "Cf0L-hCCh0YO"
      },
      "execution_count": null,
      "outputs": []
    },
    {
      "cell_type": "code",
      "source": [
        "y = y.replace(to_replace=['N', 'Y'], value=[0, 1])"
      ],
      "metadata": {
        "id": "IV4C-1z6i4Jc"
      },
      "execution_count": null,
      "outputs": []
    },
    {
      "cell_type": "markdown",
      "source": [
        "**XGBoost K Fold Cross Validation, kappa=0.18**\n",
        "\n"
      ],
      "metadata": {
        "id": "hnECS4J2jJcT"
      }
    },
    {
      "cell_type": "code",
      "source": [
        "from numpy import loadtxt\n",
        "from xgboost import XGBClassifier\n",
        "from sklearn.model_selection import train_test_split\n",
        "from sklearn.metrics import accuracy_score\n",
        "from sklearn.model_selection import KFold\n",
        "from sklearn.model_selection import cross_val_score"
      ],
      "metadata": {
        "id": "CXxlZvwrjK_c"
      },
      "execution_count": null,
      "outputs": []
    },
    {
      "cell_type": "code",
      "source": [
        "#fit model no training data\n",
        "xgBoost = XGBClassifier()"
      ],
      "metadata": {
        "id": "fLpJW2rBjP2V"
      },
      "execution_count": null,
      "outputs": []
    },
    {
      "cell_type": "code",
      "source": [
        "kfold = KFold(n_splits=10, random_state=7,shuffle = True)\n",
        "results = cross_val_score(xgBoost, x1, y, cv=kfold)\n",
        "print(\"Accuracy: %.2f%% (%.2f%%)\" % (results.mean()*100, results.std()*100))"
      ],
      "metadata": {
        "colab": {
          "base_uri": "https://localhost:8080/"
        },
        "id": "TXgo9tV5jV_s",
        "outputId": "5983662d-c328-4f16-f6d8-77c0d487f09a"
      },
      "execution_count": null,
      "outputs": [
        {
          "output_type": "stream",
          "name": "stdout",
          "text": [
            "Accuracy: 95.67% (1.77%)\n"
          ]
        }
      ]
    },
    {
      "cell_type": "code",
      "source": [
        "from sklearn.model_selection import GroupKFold\n",
        "from sklearn.metrics import cohen_kappa_score\n",
        "from sklearn.metrics import confusion_matrix"
      ],
      "metadata": {
        "id": "5pkP6SvAjcNA"
      },
      "execution_count": null,
      "outputs": []
    },
    {
      "cell_type": "code",
      "source": [
        "cv = KFold(n_splits=10)"
      ],
      "metadata": {
        "id": "AH-EuTHEjknj"
      },
      "execution_count": null,
      "outputs": []
    },
    {
      "cell_type": "code",
      "source": [
        "gkf = GroupKFold(n_splits=10)"
      ],
      "metadata": {
        "id": "W_7rkLOdjnIR"
      },
      "execution_count": null,
      "outputs": []
    },
    {
      "cell_type": "code",
      "source": [
        "group_dict = {}\n",
        "groups = np.array([])"
      ],
      "metadata": {
        "id": "rdTWJYRGjqYX"
      },
      "execution_count": null,
      "outputs": []
    },
    {
      "cell_type": "code",
      "source": [
        "for index, row in df.iterrows():\n",
        "    student_id = row['namea']\n",
        "    if student_id not in group_dict:\n",
        "        group_dict[student_id] = index\n",
        "    groups = np.append(groups, group_dict[student_id])"
      ],
      "metadata": {
        "id": "wbtldng-jsri"
      },
      "execution_count": null,
      "outputs": []
    },
    {
      "cell_type": "code",
      "source": [
        "gkf = GroupKFold(n_splits=10)"
      ],
      "metadata": {
        "id": "98hmg3ZqjySQ"
      },
      "execution_count": null,
      "outputs": []
    },
    {
      "cell_type": "code",
      "source": [
        "kappa_values = list()\n",
        "\n",
        "for train_index, test_index in gkf.split(x1, y, groups=groups):\n",
        "    x1_train = x1.iloc[train_index]\n",
        "    x1_test = x1.iloc[test_index]\n",
        "    y_train = y[train_index]\n",
        "    y_test = y[test_index]\n",
        "    xgb = XGBClassifier(learning_rate=0.5, n_estimators=200, random_state=5)\n",
        "    xgb.fit(x1_train, y_train)\n",
        "    predictions = xgb.predict(x1_test)\n",
        "    kappa = cohen_kappa_score(y_test, predictions)\n",
        "    kappa_values.append(kappa)\n",
        "np.mean(kappa_values)"
      ],
      "metadata": {
        "colab": {
          "base_uri": "https://localhost:8080/"
        },
        "id": "bWi9HgGhj2E1",
        "outputId": "bbeef172-f7e7-46e2-cce5-3b1884d2d665"
      },
      "execution_count": null,
      "outputs": [
        {
          "output_type": "execute_result",
          "data": {
            "text/plain": [
              "0.18024570851846064"
            ]
          },
          "metadata": {},
          "execution_count": 77
        }
      ]
    },
    {
      "cell_type": "markdown",
      "source": [
        "**Decision Tree with 10-fold cross-validation, kappa=0.22**"
      ],
      "metadata": {
        "id": "wPefFUU4mQPq"
      }
    },
    {
      "cell_type": "code",
      "source": [
        "from sklearn.naive_bayes import GaussianNB"
      ],
      "metadata": {
        "id": "qHCymJVOmW50"
      },
      "execution_count": null,
      "outputs": []
    },
    {
      "cell_type": "code",
      "source": [
        "from sklearn.model_selection import GroupKFold"
      ],
      "metadata": {
        "id": "NNpcmqITmbKT"
      },
      "execution_count": null,
      "outputs": []
    },
    {
      "cell_type": "code",
      "source": [
        "group_dict = {}\n",
        "groups = np.array([])"
      ],
      "metadata": {
        "id": "EQJvC6q3metG"
      },
      "execution_count": null,
      "outputs": []
    },
    {
      "cell_type": "code",
      "source": [
        "for index, row in df.iterrows():\n",
        "    student_id = row['namea']\n",
        "    if student_id not in group_dict:\n",
        "        group_dict[student_id] = index\n",
        "    groups = np.append(groups, group_dict[student_id])"
      ],
      "metadata": {
        "id": "zLXRUmI3mh9L"
      },
      "execution_count": null,
      "outputs": []
    },
    {
      "cell_type": "code",
      "source": [
        "gkf = GroupKFold(n_splits=10)"
      ],
      "metadata": {
        "id": "ifIVTGVImnmB"
      },
      "execution_count": null,
      "outputs": []
    },
    {
      "cell_type": "code",
      "source": [
        "kappa_values = list()\n",
        "\n",
        "for train_index, test_index in gkf.split(x1, y, groups=groups):\n",
        "    x1_train = x1.iloc[train_index]\n",
        "    x1_test = x1.iloc[test_index]\n",
        "    y_train = y[train_index]\n",
        "    y_test = y[test_index]\n",
        "    clf = tree.DecisionTreeClassifier(min_samples_split=10)\n",
        "    clf.fit(x1_train, y_train)\n",
        "    predictions = clf.predict(x1_test)\n",
        "    kappa = cohen_kappa_score(y_test, predictions)\n",
        "    kappa_values.append(kappa)\n",
        "kappa_values"
      ],
      "metadata": {
        "colab": {
          "base_uri": "https://localhost:8080/"
        },
        "id": "fqV5XxF4mqb8",
        "outputId": "4423be86-dc91-42d7-f8d1-aeb4cfb3eb1a"
      },
      "execution_count": null,
      "outputs": [
        {
          "output_type": "execute_result",
          "data": {
            "text/plain": [
              "[0.0,\n",
              " -0.022408963585434316,\n",
              " 0.0,\n",
              " 0.6607929515418502,\n",
              " 0.3151207115628971,\n",
              " -0.01986754966887405,\n",
              " 0.4744027303754266,\n",
              " -0.013157894736842035,\n",
              " 0.17901234567901236,\n",
              " 0.11855670103092786]"
            ]
          },
          "metadata": {},
          "execution_count": 83
        }
      ]
    },
    {
      "cell_type": "code",
      "source": [
        "print('Mean:',np.mean(kappa_values)) "
      ],
      "metadata": {
        "colab": {
          "base_uri": "https://localhost:8080/"
        },
        "id": "R-1RRob7myeF",
        "outputId": "a894ef88-889a-430f-9922-38ecc66d02a9"
      },
      "execution_count": null,
      "outputs": [
        {
          "output_type": "stream",
          "name": "stdout",
          "text": [
            "Mean: 0.16924510321989636\n"
          ]
        }
      ]
    },
    {
      "cell_type": "markdown",
      "source": [
        "**Decision Tree Accuracy**"
      ],
      "metadata": {
        "id": "azSOnesEygqD"
      }
    },
    {
      "cell_type": "code",
      "source": [
        "cv = KFold(n_splits=10)\n",
        "\n",
        "clf = tree.DecisionTreeClassifier(min_samples_split=10)\n",
        "fold_accuracy = []\n",
        "for train_index, valid_index in cv.split(x1):\n",
        "    train_x,test_x = x1.iloc[train_index],x1.iloc[valid_index]\n",
        "    train_y,test_y= y.iloc[train_index], y.iloc[valid_index]\n",
        "\n",
        "    model = clf.fit(train_x,train_y)\n",
        "    valid_acc = model.score(test_x,test_y)\n",
        "    fold_accuracy.append(valid_acc)\n",
        "    print(confusion_matrix(test_y,model.predict(test_x)))\n",
        "\n",
        "print(\"Accuracy per fold: \", fold_accuracy, \"\\n\")\n",
        "print(\"Average accuracy: \", sum(fold_accuracy)/len(fold_accuracy))"
      ],
      "metadata": {
        "colab": {
          "base_uri": "https://localhost:8080/"
        },
        "id": "A3czgq0NymfT",
        "outputId": "f2725c8f-5733-44af-ad78-613729ef0ff9"
      },
      "execution_count": null,
      "outputs": [
        {
          "output_type": "stream",
          "name": "stdout",
          "text": [
            "[[74  0]\n",
            " [ 2  1]]\n",
            "[[73  2]\n",
            " [ 2  0]]\n",
            "[[74  2]\n",
            " [ 1  0]]\n",
            "[[74  0]\n",
            " [ 2  0]]\n",
            "[[73  1]\n",
            " [ 2  0]]\n",
            "[[75  0]\n",
            " [ 1  0]]\n",
            "[[71  3]\n",
            " [ 1  1]]\n",
            "[[69  2]\n",
            " [ 5  0]]\n",
            "[[68  3]\n",
            " [ 4  1]]\n",
            "[[65  0]\n",
            " [ 9  2]]\n",
            "Accuracy per fold:  [0.974025974025974, 0.948051948051948, 0.961038961038961, 0.9736842105263158, 0.9605263157894737, 0.9868421052631579, 0.9473684210526315, 0.9078947368421053, 0.9078947368421053, 0.881578947368421] \n",
            "\n",
            "Average accuracy:  0.9448906356801092\n"
          ]
        }
      ]
    },
    {
      "cell_type": "markdown",
      "source": [
        "**Decision Tree Visualization**"
      ],
      "metadata": {
        "id": "LN0xIWTWyrIf"
      }
    },
    {
      "cell_type": "code",
      "source": [
        "from sklearn import tree\n",
        "from matplotlib import pyplot as plt"
      ],
      "metadata": {
        "id": "M_o4VZtmtC-r"
      },
      "execution_count": null,
      "outputs": []
    },
    {
      "cell_type": "code",
      "source": [
        "#visualization - reference Nan Leng's code\n",
        "fig, axes = plt.subplots(nrows = 1,ncols = 1,figsize = (15,15), dpi=300)\n",
        "tree.plot_tree(clf,\n",
        "               feature_names = list(x1.columns), \n",
        "               class_names=['OnTask','OffTask'],\n",
        "               filled = True)\n",
        "fig.savefig('cifplot.png')"
      ],
      "metadata": {
        "id": "qwz_Kb4DtHaT"
      },
      "execution_count": null,
      "outputs": []
    },
    {
      "cell_type": "markdown",
      "source": [
        "**Export the Model**"
      ],
      "metadata": {
        "id": "ax9x7ijEy4KX"
      }
    },
    {
      "cell_type": "code",
      "source": [
        "import pickle"
      ],
      "metadata": {
        "id": "orRC1YQNqqhE"
      },
      "execution_count": null,
      "outputs": []
    },
    {
      "cell_type": "code",
      "source": [
        "filename = 'decisiontree_model.sav'\n",
        "pickle.dump(clf,open(filename,'wb'))"
      ],
      "metadata": {
        "id": "We4uebFCq5U_"
      },
      "execution_count": null,
      "outputs": []
    },
    {
      "cell_type": "code",
      "source": [
        "#export data1\n",
        "df.to_csv ('df1.csv',index = False)"
      ],
      "metadata": {
        "id": "H3WyF1tnq9zC"
      },
      "execution_count": null,
      "outputs": []
    },
    {
      "cell_type": "markdown",
      "source": [
        "**10-fold student-level cross-validation using Naive Bayes, kappa=0.12**"
      ],
      "metadata": {
        "id": "hvCx9RA_nsR9"
      }
    },
    {
      "cell_type": "code",
      "source": [
        "kappa_values = list()\n",
        "\n",
        "for train_index, test_index in gkf.split(x1, y, groups=groups):\n",
        "    x1_train = x1.iloc[train_index]\n",
        "    x1_test = x1.iloc[test_index]\n",
        "    y_train = y[train_index]\n",
        "    y_test = y[test_index]\n",
        "    gnb = GaussianNB()\n",
        "    gnb.fit(x1_train, y_train.ravel())\n",
        "    predictions = gnb.predict(x1_test)\n",
        "    kappa = cohen_kappa_score(y_test, predictions)\n",
        "    kappa_values.append(kappa)\n",
        "kappa_values"
      ],
      "metadata": {
        "colab": {
          "base_uri": "https://localhost:8080/"
        },
        "id": "RYyZGcxjnoa5",
        "outputId": "21e8729a-f54c-4745-86ae-d16b981fdb71"
      },
      "execution_count": null,
      "outputs": [
        {
          "output_type": "execute_result",
          "data": {
            "text/plain": [
              "[0.0,\n",
              " 0.22505307855626322,\n",
              " -0.05769230769230771,\n",
              " -0.021220159151193574,\n",
              " -0.04054054054054035,\n",
              " 0.21160409556313997,\n",
              " 0.639344262295082,\n",
              " -0.017621145374449254,\n",
              " 0.17901234567901236,\n",
              " 0.09523809523809523]"
            ]
          },
          "metadata": {},
          "execution_count": 54
        }
      ]
    },
    {
      "cell_type": "code",
      "source": [
        "print('Mean:',np.mean(kappa_values)) "
      ],
      "metadata": {
        "colab": {
          "base_uri": "https://localhost:8080/"
        },
        "id": "MyXJuaJdob55",
        "outputId": "10e92d86-5084-45a7-d75c-7d41d6a85245"
      },
      "execution_count": null,
      "outputs": [
        {
          "output_type": "stream",
          "name": "stdout",
          "text": [
            "Mean: 0.1213177724573102\n"
          ]
        }
      ]
    },
    {
      "cell_type": "code",
      "source": [
        "cv = KFold(n_splits=10)\n",
        "\n",
        "gnb = GaussianNB()\n",
        "fold_accuracy = []\n",
        "for train_index, valid_index in cv.split(x1):\n",
        "    train_x,test_x = x1.iloc[train_index],x1.iloc[valid_index]\n",
        "    train_y,test_y= y.iloc[train_index], y.iloc[valid_index]\n",
        "\n",
        "    model = gnb.fit(train_x,train_y)\n",
        "    valid_acc = model.score(test_x,test_y)\n",
        "    fold_accuracy.append(valid_acc)\n",
        "    print(confusion_matrix(test_y,model.predict(test_x)))\n",
        "\n",
        "print(\"Accuracy per fold: \", fold_accuracy, \"\\n\")\n",
        "print(\"Average accuracy: \", sum(fold_accuracy)/len(fold_accuracy))"
      ],
      "metadata": {
        "colab": {
          "base_uri": "https://localhost:8080/"
        },
        "id": "FYk9xRw-zAPU",
        "outputId": "fb272dd3-0c1d-4f4b-98d8-8f9f7dd30ea3"
      },
      "execution_count": null,
      "outputs": [
        {
          "output_type": "stream",
          "name": "stdout",
          "text": [
            "[[73  1]\n",
            " [ 2  1]]\n",
            "[[71  4]\n",
            " [ 0  2]]\n",
            "[[73  3]\n",
            " [ 1  0]]\n",
            "[[70  4]\n",
            " [ 2  0]]\n",
            "[[72  2]\n",
            " [ 1  1]]\n",
            "[[69  6]\n",
            " [ 1  0]]\n",
            "[[70  4]\n",
            " [ 2  0]]\n",
            "[[67  4]\n",
            " [ 3  2]]\n",
            "[[67  4]\n",
            " [ 3  2]]\n",
            "[[57  8]\n",
            " [10  1]]\n",
            "Accuracy per fold:  [0.961038961038961, 0.948051948051948, 0.948051948051948, 0.9210526315789473, 0.9605263157894737, 0.9078947368421053, 0.9210526315789473, 0.9078947368421053, 0.9078947368421053, 0.7631578947368421] \n",
            "\n",
            "Average accuracy:  0.9146616541353383\n"
          ]
        }
      ]
    },
    {
      "cell_type": "markdown",
      "source": [
        "**Logistic Regression, with 10-fold cross-validation, kappa=0.19**"
      ],
      "metadata": {
        "id": "pgw125d3ohul"
      }
    },
    {
      "cell_type": "code",
      "source": [
        "import numpy as np\n",
        "from sklearn.model_selection import train_test_split"
      ],
      "metadata": {
        "id": "Cs8k2JKOolUI"
      },
      "execution_count": null,
      "outputs": []
    },
    {
      "cell_type": "code",
      "source": [
        "from sklearn.model_selection import cross_val_score # Cross Validation"
      ],
      "metadata": {
        "id": "fzGjRT9horQL"
      },
      "execution_count": null,
      "outputs": []
    },
    {
      "cell_type": "code",
      "source": [
        "from sklearn.linear_model import LogisticRegression"
      ],
      "metadata": {
        "id": "BNtRv1rlotSI"
      },
      "execution_count": null,
      "outputs": []
    },
    {
      "cell_type": "code",
      "source": [
        "x1_train, x1_test, y_train, y_test = train_test_split(x1, y, random_state=0)"
      ],
      "metadata": {
        "id": "bA0k575yov0Y"
      },
      "execution_count": null,
      "outputs": []
    },
    {
      "cell_type": "code",
      "source": [
        "logreg = LogisticRegression(solver='lbfgs', max_iter=1000)"
      ],
      "metadata": {
        "id": "b2_8jA69oymj"
      },
      "execution_count": null,
      "outputs": []
    },
    {
      "cell_type": "code",
      "source": [
        "logreg.fit(x1_train, y_train)"
      ],
      "metadata": {
        "colab": {
          "base_uri": "https://localhost:8080/"
        },
        "id": "VUOO4BY7o2m6",
        "outputId": "19d1c597-f825-488d-d35d-8d6261eed072"
      },
      "execution_count": null,
      "outputs": [
        {
          "output_type": "execute_result",
          "data": {
            "text/plain": [
              "LogisticRegression(max_iter=1000)"
            ]
          },
          "metadata": {},
          "execution_count": 43
        }
      ]
    },
    {
      "cell_type": "code",
      "source": [
        "#make prediction on the training dataset\n",
        "y_predict = logreg.predict(x1_train)"
      ],
      "metadata": {
        "id": "uRF-FcTEo4kY"
      },
      "execution_count": null,
      "outputs": []
    },
    {
      "cell_type": "code",
      "source": [
        "#make prediction on the testing dataset\n",
        "y_predict1 = logreg.predict(x1_test)"
      ],
      "metadata": {
        "id": "-wUwqNloo7kw"
      },
      "execution_count": null,
      "outputs": []
    },
    {
      "cell_type": "code",
      "source": [
        "scores = cross_val_score(logreg, x1_train, y_train, cv = 10) "
      ],
      "metadata": {
        "id": "tCUptmuto-W8"
      },
      "execution_count": null,
      "outputs": []
    },
    {
      "cell_type": "code",
      "source": [
        "np.mean(scores)"
      ],
      "metadata": {
        "colab": {
          "base_uri": "https://localhost:8080/"
        },
        "id": "VOCHgbJZpA7M",
        "outputId": "b4c75f46-5feb-411e-a7ce-51668c10a5ea"
      },
      "execution_count": null,
      "outputs": [
        {
          "output_type": "execute_result",
          "data": {
            "text/plain": [
              "0.9528130671506352"
            ]
          },
          "metadata": {},
          "execution_count": 47
        }
      ]
    },
    {
      "cell_type": "code",
      "source": [
        "kappa_values = list()\n",
        "\n",
        "for train_index, test_index in gkf.split(x1, y, groups=groups):\n",
        "    x1_train = x1.iloc[train_index]\n",
        "    x1_test = x1.iloc[test_index]\n",
        "    y_train = y[train_index]\n",
        "    y_test = y[test_index]\n",
        "    logreg = LogisticRegression(solver='lbfgs', max_iter=1000)\n",
        "    logreg.fit(x1_train, y_train)\n",
        "    predictions = logreg.predict(x1_test)\n",
        "    kappa = cohen_kappa_score(y_test, predictions)\n",
        "    kappa_values.append(kappa)\n",
        "kappa_values"
      ],
      "metadata": {
        "colab": {
          "base_uri": "https://localhost:8080/"
        },
        "id": "IMn0XdDmpEGa",
        "outputId": "49fd7477-dfcd-474b-aa34-420f8f410ed2"
      },
      "execution_count": null,
      "outputs": [
        {
          "output_type": "execute_result",
          "data": {
            "text/plain": [
              "[0.0,\n",
              " 0.38655462184873945,\n",
              " 0.0,\n",
              " -0.013157894736842035,\n",
              " 0.0,\n",
              " 0.490066225165563,\n",
              " 0.31858407079646023,\n",
              " 0.0,\n",
              " 0.48993288590604034,\n",
              " 0.2191780821917808]"
            ]
          },
          "metadata": {},
          "execution_count": 48
        }
      ]
    },
    {
      "cell_type": "code",
      "source": [
        "print('Mean:',np.mean(kappa_values)) "
      ],
      "metadata": {
        "colab": {
          "base_uri": "https://localhost:8080/"
        },
        "id": "SZshKt6ypHA0",
        "outputId": "238b27cb-32b7-431c-d37e-26b00ff8ab67"
      },
      "execution_count": null,
      "outputs": [
        {
          "output_type": "stream",
          "name": "stdout",
          "text": [
            "Mean: 0.1891157991171742\n"
          ]
        }
      ]
    }
  ]
}